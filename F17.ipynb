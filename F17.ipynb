{
 "cells": [
  {
   "cell_type": "code",
   "execution_count": 1,
   "id": "38c7a928",
   "metadata": {},
   "outputs": [],
   "source": [
    "dict1={\"key1\":35}"
   ]
  },
  {
   "cell_type": "code",
   "execution_count": 2,
   "id": "a8827849",
   "metadata": {},
   "outputs": [
    {
     "data": {
      "text/plain": [
       "{'key1': 35}"
      ]
     },
     "execution_count": 2,
     "metadata": {},
     "output_type": "execute_result"
    }
   ],
   "source": [
    "dict1"
   ]
  },
  {
   "cell_type": "code",
   "execution_count": 3,
   "id": "65273a62",
   "metadata": {},
   "outputs": [],
   "source": [
    "dict1={\"key1\":35,\"key2\":45,\"key3\":55}"
   ]
  },
  {
   "cell_type": "code",
   "execution_count": 4,
   "id": "c842f80c",
   "metadata": {},
   "outputs": [
    {
     "name": "stdout",
     "output_type": "stream",
     "text": [
      "key1\n",
      "key2\n",
      "key3\n"
     ]
    }
   ],
   "source": [
    "for f in dict1:\n",
    "    print(f)\n"
   ]
  },
  {
   "cell_type": "code",
   "execution_count": 5,
   "id": "81d059b4",
   "metadata": {},
   "outputs": [
    {
     "name": "stdout",
     "output_type": "stream",
     "text": [
      "key1\n",
      "key2\n",
      "key3\n"
     ]
    }
   ],
   "source": [
    "for f in dict1.keys():\n",
    "    print(f)"
   ]
  },
  {
   "cell_type": "code",
   "execution_count": 9,
   "id": "08c3e1e9",
   "metadata": {},
   "outputs": [
    {
     "name": "stdout",
     "output_type": "stream",
     "text": [
      "35\n",
      "45\n",
      "55\n"
     ]
    }
   ],
   "source": [
    "for f in dict1.values():\n",
    "    print(f)"
   ]
  },
  {
   "cell_type": "code",
   "execution_count": 11,
   "id": "7f06d050",
   "metadata": {},
   "outputs": [
    {
     "data": {
      "text/plain": [
       "{'key1': 35, 'key2': 45, 'key3': 55}"
      ]
     },
     "execution_count": 11,
     "metadata": {},
     "output_type": "execute_result"
    }
   ],
   "source": [
    "dict1"
   ]
  },
  {
   "cell_type": "code",
   "execution_count": 12,
   "id": "7d0c7ca8",
   "metadata": {},
   "outputs": [
    {
     "data": {
      "text/plain": [
       "35"
      ]
     },
     "execution_count": 12,
     "metadata": {},
     "output_type": "execute_result"
    }
   ],
   "source": [
    "dict1[\"key1\"]"
   ]
  },
  {
   "cell_type": "markdown",
   "id": "b1e851ed",
   "metadata": {},
   "source": [
    "# Use keys() when you are interested in iterating over the keys."
   ]
  },
  {
   "cell_type": "markdown",
   "id": "ec937f23",
   "metadata": {},
   "source": [
    "# Use values() when you want to iterate over the values."
   ]
  },
  {
   "cell_type": "markdown",
   "id": "afb4b0db",
   "metadata": {},
   "source": [
    "# items() returns a view object that displays a list of tuples"
   ]
  },
  {
   "cell_type": "markdown",
   "id": "fb4b356c",
   "metadata": {},
   "source": [
    "# Use items() when you need both the keys and values during iteration."
   ]
  },
  {
   "cell_type": "code",
   "execution_count": 14,
   "id": "a4818306",
   "metadata": {},
   "outputs": [
    {
     "data": {
      "text/plain": [
       "{'key1': 35, 'key2': 45, 'key3': 55}"
      ]
     },
     "execution_count": 14,
     "metadata": {},
     "output_type": "execute_result"
    }
   ],
   "source": [
    "dict1\n"
   ]
  },
  {
   "cell_type": "code",
   "execution_count": 33,
   "id": "79b571ae",
   "metadata": {},
   "outputs": [
    {
     "name": "stdout",
     "output_type": "stream",
     "text": [
      "key1 : 35\n",
      "key2 : 45\n",
      "key3 : 55\n"
     ]
    }
   ],
   "source": [
    "for a,f in dict1.items():\n",
    "    print(a,\":\",f)"
   ]
  },
  {
   "cell_type": "code",
   "execution_count": 34,
   "id": "0eec3aea",
   "metadata": {},
   "outputs": [
    {
     "name": "stdout",
     "output_type": "stream",
     "text": [
      "Element daalein ya 'exit' likhein toh program band hojayega: a\n",
      "Element daalein ya 'exit' likhein toh program band hojayega: f\n",
      "Element daalein ya 'exit' likhein toh program band hojayega: a\n",
      "Element daalein ya 'exit' likhein toh program band hojayega: t\n",
      "Element daalein ya 'exit' likhein toh program band hojayega: a\n",
      "Element daalein ya 'exit' likhein toh program band hojayega: I\n",
      "Element daalein ya 'exit' likhein toh program band hojayega: A\n",
      "Element daalein ya 'exit' likhein toh program band hojayega: \n",
      "Element daalein ya 'exit' likhein toh program band hojayega: m\n",
      "Element daalein ya 'exit' likhein toh program band hojayega: a\n",
      "Element daalein ya 'exit' likhein toh program band hojayega: n\n",
      "Element daalein ya 'exit' likhein toh program band hojayega: l\n",
      "Element daalein ya 'exit' likhein toh program band hojayega: i\n",
      "Element daalein ya 'exit' likhein toh program band hojayega: o\n",
      "Element daalein ya 'exit' likhein toh program band hojayega: v\n",
      "Element daalein ya 'exit' likhein toh program band hojayega: r\n",
      "Element daalein ya 'exit' likhein toh program band hojayega: e\n",
      "Element daalein ya 'exit' likhein toh program band hojayega: \n",
      "Element daalein ya 'exit' likhein toh program band hojayega: g\n",
      "Element daalein ya 'exit' likhein toh program band hojayega: c\n",
      "Element daalein ya 'exit' likhein toh program band hojayega: v\n",
      "Element daalein ya 'exit' likhein toh program band hojayega: n\n",
      "Element daalein ya 'exit' likhein toh program band hojayega: n\n",
      "Element daalein ya 'exit' likhein toh program band hojayega: m\n",
      "Element daalein ya 'exit' likhein toh program band hojayega: \n",
      "Element daalein ya 'exit' likhein toh program band hojayega: j\n",
      "Element daalein ya 'exit' likhein toh program band hojayega: \n",
      "Element daalein ya 'exit' likhein toh program band hojayega: y\n",
      "Element daalein ya 'exit' likhein toh program band hojayega: t\n",
      "Element daalein ya 'exit' likhein toh program band hojayega: tr\n",
      "Element daalein ya 'exit' likhein toh program band hojayega: e\n",
      "Element daalein ya 'exit' likhein toh program band hojayega: w\n",
      "Element daalein ya 'exit' likhein toh program band hojayega: w\n",
      "Element daalein ya 'exit' likhein toh program band hojayega: \n",
      "Element daalein ya 'exit' likhein toh program band hojayega: e\n",
      "Element daalein ya 'exit' likhein toh program band hojayega: r\n",
      "Element daalein ya 'exit' likhein toh program band hojayega: t\n",
      "Element daalein ya 'exit' likhein toh program band hojayega: y\n",
      "Element daalein ya 'exit' likhein toh program band hojayega: \n",
      "Element daalein ya 'exit' likhein toh program band hojayega: \n",
      "Element daalein ya 'exit' likhein toh program band hojayega: u\n",
      "Element daalein ya 'exit' likhein toh program band hojayega: \n",
      "Element daalein ya 'exit' likhein toh program band hojayega: j\n",
      "Element daalein ya 'exit' likhein toh program band hojayega: j\n",
      "Element daalein ya 'exit' likhein toh program band hojayega: m\n",
      "Element daalein ya 'exit' likhein toh program band hojayega: k\n",
      "Element daalein ya 'exit' likhein toh program band hojayega: k\n",
      "Element daalein ya 'exit' likhein toh program band hojayega: \n",
      "Element daalein ya 'exit' likhein toh program band hojayega: \n",
      "Element daalein ya 'exit' likhein toh program band hojayega: a\n",
      "Element daalein ya 'exit' likhein toh program band hojayega: s\n",
      "Element daalein ya 'exit' likhein toh program band hojayega: d\n",
      "Element daalein ya 'exit' likhein toh program band hojayega: f\n",
      "Element daalein ya 'exit' likhein toh program band hojayega: g\n",
      "Element daalein ya 'exit' likhein toh program band hojayega: 3\n",
      "Element daalein ya 'exit' likhein toh program band hojayega: exit\n",
      "Aapki list: ['a', 'f', 'a', 't', 'a', 'I', 'A', '', 'm', 'a', 'n', 'l', 'i', 'o', 'v', 'r', 'e', '', 'g', 'c', 'v', 'n', 'n', 'm', '', 'j', '', 'y', 't', 'tr', 'e', 'w', 'w', '', 'e', 'r', 't', 'y', '', '', 'u', '', 'j', 'j', 'm', 'k', 'k', '', '', 'a', 's', 'd', 'f', 'g', '3']\n"
     ]
    }
   ],
   "source": [
    "# List banayein\n",
    "my_list = []\n",
    "\n",
    "# Ek loop chalayein\n",
    "while True:\n",
    "    # User se input lein\n",
    "    element = input(\"Element daalein ya 'exit' likhein toh program band hojayega: \")\n",
    "\n",
    "    # Agar user 'exit' likhe, toh loop se bahar nikal jayein\n",
    "    if element.lower() == 'exit':\n",
    "        break\n",
    "\n",
    "    # Agar koi aur cheez likhi hai toh list mein add karein\n",
    "    my_list.append(element)\n",
    "\n",
    "# List ko print karein\n",
    "print(\"Aapki list:\", my_list)\n"
   ]
  },
  {
   "cell_type": "code",
   "execution_count": 35,
   "id": "7798d526",
   "metadata": {},
   "outputs": [
    {
     "name": "stdout",
     "output_type": "stream",
     "text": [
      "Element daalein ya 'exit' likhein toh program band hojayega: fatimah\n",
      "Element daalein ya 'exit' likhein toh program band hojayega: aaminah\n",
      "Element daalein ya 'exit' likhein toh program band hojayega: zahrah\n",
      "Element daalein ya 'exit' likhein toh program band hojayega: uzma\n",
      "Element daalein ya 'exit' likhein toh program band hojayega: afzal\n",
      "Element daalein ya 'exit' likhein toh program band hojayega: zainab\n",
      "Element daalein ya 'exit' likhein toh program band hojayega: laiba\n",
      "Element daalein ya 'exit' likhein toh program band hojayega: lina\n",
      "Element daalein ya 'exit' likhein toh program band hojayega: aisha\n",
      "Element daalein ya 'exit' likhein toh program band hojayega: zain\n",
      "Element daalein ya 'exit' likhein toh program band hojayega: usmaan\n",
      "Element daalein ya 'exit' likhein toh program band hojayega: ayaan\n",
      "Element daalein ya 'exit' likhein toh program band hojayega: fatimah\n",
      "Element daalein ya 'exit' likhein toh program band hojayega: sania\n",
      "Element daalein ya 'exit' likhein toh program band hojayega: saboor \n",
      "Element daalein ya 'exit' likhein toh program band hojayega: falak\n",
      "Element daalein ya 'exit' likhein toh program band hojayega: mustafa\n",
      "Element daalein ya 'exit' likhein toh program band hojayega: wajiyha\n",
      "Element daalein ya 'exit' likhein toh program band hojayega: innaya\n",
      "Element daalein ya 'exit' likhein toh program band hojayega: anisha\n",
      "Element daalein ya 'exit' likhein toh program band hojayega: EXIt\n",
      "Aapki list: ['fatimah', 'aaminah', 'zahrah', 'uzma', 'afzal', 'zainab', 'laiba', 'lina', 'aisha', 'zain', 'usmaan', 'ayaan', 'fatimah', 'sania', 'saboor ', 'falak', 'mustafa', 'wajiyha', 'innaya', 'anisha']\n"
     ]
    }
   ],
   "source": [
    "# List banayein\n",
    "my_list = []\n",
    "\n",
    "# Ek loop chalayein\n",
    "while True:\n",
    "    # User se input lein\n",
    "    element = input(\"Element daalein ya 'exit' likhein toh program band hojayega: \")\n",
    "\n",
    "    # Agar user 'exit' likhe, toh loop se bahar nikal jayein\n",
    "    if element.lower() == 'exit':\n",
    "        break\n",
    "\n",
    "    # Agar koi aur cheez likhi hai toh list mein add karein\n",
    "    my_list.append(element)\n",
    "\n",
    "# List ko print karein\n",
    "print(\"Aapki list:\", my_list)\n"
   ]
  },
  {
   "cell_type": "code",
   "execution_count": 36,
   "id": "cfa9e8f6",
   "metadata": {},
   "outputs": [
    {
     "data": {
      "text/plain": [
       "20"
      ]
     },
     "execution_count": 36,
     "metadata": {},
     "output_type": "execute_result"
    }
   ],
   "source": [
    "len(my_list)"
   ]
  },
  {
   "cell_type": "code",
   "execution_count": 37,
   "id": "0c9f89df",
   "metadata": {},
   "outputs": [
    {
     "name": "stdout",
     "output_type": "stream",
     "text": [
      "Enter the number of key-value pairs to add: 20\n",
      "Enter key 1: 135\n",
      "Enter value 1: 16\n",
      "Enter key 2: 28\n",
      "Enter value 2: 69\n",
      "Enter key 3: 20\n",
      "Enter value 3: 13\n",
      "Enter key 4: 15\n",
      "Enter value 4: \n",
      "Enter key 5: 58\n",
      "Enter value 5: 6\n",
      "Enter key 6: 7\n",
      "Enter value 6: 4\n",
      "Enter key 7: 5\n",
      "Enter value 7: 09\n",
      "Enter key 8: 9\n",
      "Enter value 8: 6\n",
      "Enter key 9: 67\n",
      "Enter value 9: 16\n",
      "Enter key 10: 28\n",
      "Enter value 10: 69\n",
      "Enter key 11: 4\n",
      "Enter value 11: 5\n",
      "Enter key 12: 4\n",
      "Enter value 12: 5\n",
      "Enter key 13: 4\n",
      "Enter value 13: 5\n",
      "Enter key 14: 6\n",
      "Enter value 14: 7\n",
      "Enter key 15: 8\n",
      "Enter value 15: 8\n",
      "Enter key 16: 19\n",
      "Enter value 16: 2\n",
      "Enter key 17: 0\n",
      "Enter value 17: 86\n",
      "Enter key 18: 4\n",
      "Enter value 18: 34\n",
      "Enter key 19: 2008\n",
      "Enter value 19: 2009\n",
      "Enter key 20: 7\n",
      "Enter value 20: 1628\n",
      "Resulting Dictionary:\n",
      "{'135': '16', '28': '69', '20': '13', '15': '', '58': '6', '7': '1628', '5': '09', '9': '6', '67': '16', '4': '34', '6': '7', '8': '8', '19': '2', '0': '86', '2008': '2009'}\n"
     ]
    }
   ],
   "source": [
    "# Initialize an empty dictionary\n",
    "my_dict = {}\n",
    "\n",
    "# Get user input for adding key-value pairs\n",
    "num_pairs = int(input(\"Enter the number of key-value pairs to add: \"))\n",
    "\n",
    "for i in range(num_pairs):\n",
    "    key = input(f\"Enter key {i + 1}: \")\n",
    "    value = input(f\"Enter value {i + 1}: \")\n",
    "    \n",
    "    # Add the key-value pair to the dictionary\n",
    "    my_dict[key] = value\n",
    "\n",
    "# Display the resulting dictionary\n",
    "print(\"Resulting Dictionary:\")\n",
    "print(my_dict)\n"
   ]
  },
  {
   "cell_type": "code",
   "execution_count": 38,
   "id": "a7cd4051",
   "metadata": {},
   "outputs": [
    {
     "name": "stdout",
     "output_type": "stream",
     "text": [
      "Enter the number of key-value pairs to add: 5\n",
      "Enter key 1: key1\n",
      "Enter value 1: 10\n",
      "Enter key 2: key2\n",
      "Enter value 2: 20\n",
      "Enter key 3: key3\n",
      "Enter value 3: 16\n",
      "Enter key 4: key4\n",
      "Enter value 4: 28\n",
      "Enter key 5: key5\n",
      "Enter value 5: 690\n",
      "Resulting Dictionary:\n",
      "{'key1': '10', 'key2': '20', 'key3': '16', 'key4': '28', 'key5': '690'}\n"
     ]
    }
   ],
   "source": [
    "# Initialize an empty dictionary\n",
    "my_dict = {}\n",
    "\n",
    "# Get user input for adding key-value pairs\n",
    "num_pairs = int(input(\"Enter the number of key-value pairs to add: \"))\n",
    "\n",
    "for i in range(num_pairs):\n",
    "    key = input(f\"Enter key {i + 1}: \")\n",
    "    value = input(f\"Enter value {i + 1}: \")\n",
    "    \n",
    "    # Add the key-value pair to the dictionary\n",
    "    my_dict[key] = value\n",
    "\n",
    "# Display the resulting dictionary\n",
    "print(\"Resulting Dictionary:\")\n",
    "print(my_dict)\n"
   ]
  },
  {
   "cell_type": "code",
   "execution_count": 39,
   "id": "505f39a0",
   "metadata": {},
   "outputs": [
    {
     "data": {
      "text/plain": [
       "{'key1': '10', 'key2': '20', 'key3': '16', 'key4': '28', 'key5': '690'}"
      ]
     },
     "execution_count": 39,
     "metadata": {},
     "output_type": "execute_result"
    }
   ],
   "source": [
    "my_dict"
   ]
  },
  {
   "cell_type": "code",
   "execution_count": 42,
   "id": "91c45d08",
   "metadata": {},
   "outputs": [
    {
     "name": "stdout",
     "output_type": "stream",
     "text": [
      "b\n",
      "c\n",
      "d\n"
     ]
    }
   ],
   "source": [
    "my_dict = {'a': 1, 'b': 2, 'c': 3, 'd':6}\n",
    "\n",
    "# Iterating with condition\n",
    "for key in my_dict:\n",
    "    if my_dict[key] > 1:\n",
    "        print(key)  # Output: b, c (keys with values > 1)\n"
   ]
  },
  {
   "cell_type": "code",
   "execution_count": null,
   "id": "8d8e41f9",
   "metadata": {},
   "outputs": [],
   "source": []
  }
 ],
 "metadata": {
  "kernelspec": {
   "display_name": "Python 3 (ipykernel)",
   "language": "python",
   "name": "python3"
  },
  "language_info": {
   "codemirror_mode": {
    "name": "ipython",
    "version": 3
   },
   "file_extension": ".py",
   "mimetype": "text/x-python",
   "name": "python",
   "nbconvert_exporter": "python",
   "pygments_lexer": "ipython3",
   "version": "3.11.5"
  }
 },
 "nbformat": 4,
 "nbformat_minor": 5
}
