{
 "cells": [
  {
   "cell_type": "code",
   "execution_count": 4,
   "id": "1119f6b1",
   "metadata": {},
   "outputs": [
    {
     "data": {
      "text/plain": [
       "{'key1': 10, 'key2': 15, 'key3': 20, 'key4': 25, 'key5': 30}"
      ]
     },
     "execution_count": 4,
     "metadata": {},
     "output_type": "execute_result"
    }
   ],
   "source": [
    "dict1={\"key1\":10,\"key2\":15,\"key3\":20,\"key4\":25,\"key5\":30}\n",
    "dict1\n"
   ]
  },
  {
   "cell_type": "code",
   "execution_count": 5,
   "id": "07781737",
   "metadata": {},
   "outputs": [],
   "source": [
    "dict1[\"key6\"]=69"
   ]
  },
  {
   "cell_type": "code",
   "execution_count": 6,
   "id": "637f62e0",
   "metadata": {},
   "outputs": [
    {
     "data": {
      "text/plain": [
       "{'key1': 10, 'key2': 15, 'key3': 20, 'key4': 25, 'key5': 30, 'key6': 69}"
      ]
     },
     "execution_count": 6,
     "metadata": {},
     "output_type": "execute_result"
    }
   ],
   "source": [
    "dict1"
   ]
  },
  {
   "cell_type": "code",
   "execution_count": 8,
   "id": "47fdc84b",
   "metadata": {},
   "outputs": [],
   "source": [
    "dict1[\"key7\"]=1628"
   ]
  },
  {
   "cell_type": "code",
   "execution_count": 10,
   "id": "a789e60b",
   "metadata": {},
   "outputs": [
    {
     "data": {
      "text/plain": [
       "{'key1': 10,\n",
       " 'key2': 15,\n",
       " 'key3': 20,\n",
       " 'key4': 25,\n",
       " 'key5': 30,\n",
       " 'key6': 69,\n",
       " 'key7': 1628}"
      ]
     },
     "execution_count": 10,
     "metadata": {},
     "output_type": "execute_result"
    }
   ],
   "source": [
    "dict1"
   ]
  },
  {
   "cell_type": "code",
   "execution_count": 12,
   "id": "0624bc0c",
   "metadata": {},
   "outputs": [],
   "source": [
    "dict1[\"key8\"]=1010"
   ]
  },
  {
   "cell_type": "code",
   "execution_count": 13,
   "id": "ab419332",
   "metadata": {},
   "outputs": [
    {
     "data": {
      "text/plain": [
       "{'key1': 10,\n",
       " 'key2': 15,\n",
       " 'key3': 20,\n",
       " 'key4': 25,\n",
       " 'key5': 30,\n",
       " 'key6': 69,\n",
       " 'key7': 1628,\n",
       " 'key8': 1010}"
      ]
     },
     "execution_count": 13,
     "metadata": {},
     "output_type": "execute_result"
    }
   ],
   "source": [
    "dict1"
   ]
  },
  {
   "cell_type": "code",
   "execution_count": 14,
   "id": "f0c03186",
   "metadata": {},
   "outputs": [],
   "source": [
    "dict1[\"key9\"]=5053"
   ]
  },
  {
   "cell_type": "code",
   "execution_count": 15,
   "id": "fde182ab",
   "metadata": {},
   "outputs": [
    {
     "data": {
      "text/plain": [
       "{'key1': 10,\n",
       " 'key2': 15,\n",
       " 'key3': 20,\n",
       " 'key4': 25,\n",
       " 'key5': 30,\n",
       " 'key6': 69,\n",
       " 'key7': 1628,\n",
       " 'key8': 1010,\n",
       " 'key9': 5053}"
      ]
     },
     "execution_count": 15,
     "metadata": {},
     "output_type": "execute_result"
    }
   ],
   "source": [
    "dict1"
   ]
  },
  {
   "cell_type": "code",
   "execution_count": 18,
   "id": "615d7375",
   "metadata": {},
   "outputs": [],
   "source": [
    "dict1[\"key10\"]=47449"
   ]
  },
  {
   "cell_type": "code",
   "execution_count": 19,
   "id": "95b9b200",
   "metadata": {},
   "outputs": [
    {
     "data": {
      "text/plain": [
       "{'key1': 10,\n",
       " 'key2': 15,\n",
       " 'key3': 20,\n",
       " 'key4': 25,\n",
       " 'key5': 30,\n",
       " 'key6': 69,\n",
       " 'key7': 1628,\n",
       " 'key8': 1010,\n",
       " 'key9': 5053,\n",
       " 'key10': 47449}"
      ]
     },
     "execution_count": 19,
     "metadata": {},
     "output_type": "execute_result"
    }
   ],
   "source": [
    "dict1"
   ]
  },
  {
   "cell_type": "code",
   "execution_count": 20,
   "id": "f93baa54",
   "metadata": {},
   "outputs": [
    {
     "data": {
      "text/plain": [
       "10"
      ]
     },
     "execution_count": 20,
     "metadata": {},
     "output_type": "execute_result"
    }
   ],
   "source": [
    "len(dict1)"
   ]
  },
  {
   "cell_type": "code",
   "execution_count": 21,
   "id": "15bcbb0b",
   "metadata": {},
   "outputs": [],
   "source": [
    "dict1[\"key6\"]=35"
   ]
  },
  {
   "cell_type": "code",
   "execution_count": 22,
   "id": "33b38fea",
   "metadata": {},
   "outputs": [
    {
     "data": {
      "text/plain": [
       "{'key1': 10,\n",
       " 'key2': 15,\n",
       " 'key3': 20,\n",
       " 'key4': 25,\n",
       " 'key5': 30,\n",
       " 'key6': 35,\n",
       " 'key7': 1628,\n",
       " 'key8': 1010,\n",
       " 'key9': 5053,\n",
       " 'key10': 47449}"
      ]
     },
     "execution_count": 22,
     "metadata": {},
     "output_type": "execute_result"
    }
   ],
   "source": [
    "dict1"
   ]
  },
  {
   "cell_type": "code",
   "execution_count": 23,
   "id": "c00a6f3b",
   "metadata": {},
   "outputs": [],
   "source": [
    "del dict1[\"key10\"]"
   ]
  },
  {
   "cell_type": "code",
   "execution_count": 24,
   "id": "dbce99cb",
   "metadata": {},
   "outputs": [
    {
     "data": {
      "text/plain": [
       "{'key1': 10,\n",
       " 'key2': 15,\n",
       " 'key3': 20,\n",
       " 'key4': 25,\n",
       " 'key5': 30,\n",
       " 'key6': 35,\n",
       " 'key7': 1628,\n",
       " 'key8': 1010,\n",
       " 'key9': 5053}"
      ]
     },
     "execution_count": 24,
     "metadata": {},
     "output_type": "execute_result"
    }
   ],
   "source": [
    "dict1"
   ]
  },
  {
   "cell_type": "code",
   "execution_count": 25,
   "id": "9994ee28",
   "metadata": {},
   "outputs": [
    {
     "data": {
      "text/plain": [
       "9"
      ]
     },
     "execution_count": 25,
     "metadata": {},
     "output_type": "execute_result"
    }
   ],
   "source": [
    "len(dict1)"
   ]
  },
  {
   "cell_type": "markdown",
   "id": "789ea73a",
   "metadata": {},
   "source": [
    "# keys()=return a veiw of all keys in the dictionary"
   ]
  },
  {
   "cell_type": "code",
   "execution_count": 27,
   "id": "1758675f",
   "metadata": {},
   "outputs": [
    {
     "data": {
      "text/plain": [
       "dict_keys(['key1', 'key2', 'key3', 'key4', 'key5', 'key6', 'key7', 'key8', 'key9'])"
      ]
     },
     "execution_count": 27,
     "metadata": {},
     "output_type": "execute_result"
    }
   ],
   "source": [
    "dict1.keys()"
   ]
  },
  {
   "cell_type": "markdown",
   "id": "e4545567",
   "metadata": {},
   "source": [
    "# values()=return a veiw of all value in the dictionary"
   ]
  },
  {
   "cell_type": "code",
   "execution_count": 29,
   "id": "8a3ad284",
   "metadata": {},
   "outputs": [
    {
     "data": {
      "text/plain": [
       "dict_values([10, 15, 20, 25, 30, 35, 1628, 1010, 5053])"
      ]
     },
     "execution_count": 29,
     "metadata": {},
     "output_type": "execute_result"
    }
   ],
   "source": [
    "dict1.values()"
   ]
  },
  {
   "cell_type": "code",
   "execution_count": null,
   "id": "a14ed145",
   "metadata": {},
   "outputs": [],
   "source": []
  }
 ],
 "metadata": {
  "kernelspec": {
   "display_name": "Python 3 (ipykernel)",
   "language": "python",
   "name": "python3"
  },
  "language_info": {
   "codemirror_mode": {
    "name": "ipython",
    "version": 3
   },
   "file_extension": ".py",
   "mimetype": "text/x-python",
   "name": "python",
   "nbconvert_exporter": "python",
   "pygments_lexer": "ipython3",
   "version": "3.11.5"
  }
 },
 "nbformat": 4,
 "nbformat_minor": 5
}
