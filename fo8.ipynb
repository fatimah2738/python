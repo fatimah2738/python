{
 "cells": [
  {
   "cell_type": "markdown",
   "id": "4f3bdd68",
   "metadata": {},
   "source": [
    "# Declare a variable named age and assign your age to it."
   ]
  },
  {
   "cell_type": "code",
   "execution_count": 1,
   "id": "113acc37",
   "metadata": {},
   "outputs": [],
   "source": [
    "age = 15"
   ]
  },
  {
   "cell_type": "markdown",
   "id": "18eef9d6",
   "metadata": {},
   "source": [
    "# Create a variable called name and assign your name as a string."
   ]
  },
  {
   "cell_type": "code",
   "execution_count": 2,
   "id": "fbc21bbd",
   "metadata": {},
   "outputs": [],
   "source": [
    "name = \"fatimah\" "
   ]
  },
  {
   "cell_type": "markdown",
   "id": "d8a70c83",
   "metadata": {},
   "source": [
    "# Print a message using both variables to introduce yourself."
   ]
  },
  {
   "cell_type": "code",
   "execution_count": 3,
   "id": "b754e889",
   "metadata": {},
   "outputs": [
    {
     "name": "stdout",
     "output_type": "stream",
     "text": [
      "my name is fatimah and my age is 15.\n"
     ]
    }
   ],
   "source": [
    "print(f\"my name is {name} and my age is {age}.\")"
   ]
  },
  {
   "cell_type": "code",
   "execution_count": 4,
   "id": "87be2d54",
   "metadata": {},
   "outputs": [
    {
     "name": "stdout",
     "output_type": "stream",
     "text": [
      "my name is fatimah and my age is 15.\n"
     ]
    }
   ],
   "source": [
    "print(f\"my name is {name} and my age is {age}.\")\n"
   ]
  },
  {
   "cell_type": "code",
   "execution_count": 6,
   "id": "f539980c",
   "metadata": {},
   "outputs": [
    {
     "name": "stdout",
     "output_type": "stream",
     "text": [
      " my name is fatimahand my age is 15.\n"
     ]
    }
   ],
   "source": [
    "print (f\" my name is {name}and my age is {age}.\")"
   ]
  },
  {
   "cell_type": "code",
   "execution_count": 7,
   "id": "91320264",
   "metadata": {},
   "outputs": [
    {
     "name": "stdout",
     "output_type": "stream",
     "text": [
      " my name is fatimah and my age is 15.\n"
     ]
    }
   ],
   "source": [
    "print(f\" my name is {name} and my age is {age}.\")"
   ]
  },
  {
   "cell_type": "markdown",
   "id": "160a746c",
   "metadata": {},
   "source": [
    "# How do you use the print() function to display text?"
   ]
  },
  {
   "cell_type": "code",
   "execution_count": 10,
   "id": "998372a2",
   "metadata": {},
   "outputs": [
    {
     "name": "stdout",
     "output_type": "stream",
     "text": [
      " zahara is my faviourate sister.\n"
     ]
    }
   ],
   "source": [
    "print(\" zahara is my faviourate sister.\")"
   ]
  },
  {
   "cell_type": "markdown",
   "id": "3447877b",
   "metadata": {},
   "source": [
    "# can you print multiple items on the same line?"
   ]
  },
  {
   "cell_type": "code",
   "execution_count": 11,
   "id": "da1a431d",
   "metadata": {},
   "outputs": [
    {
     "name": "stdout",
     "output_type": "stream",
     "text": [
      "my name is fatimah and my age is 15.\n"
     ]
    }
   ],
   "source": [
    "print(f\"my name is {name} and my age is {age}.\")"
   ]
  },
  {
   "cell_type": "code",
   "execution_count": 12,
   "id": "469fa1b1",
   "metadata": {},
   "outputs": [
    {
     "name": "stdout",
     "output_type": "stream",
     "text": [
      "fatimah 15\n"
     ]
    }
   ],
   "source": [
    "print(name,age)"
   ]
  },
  {
   "cell_type": "code",
   "execution_count": null,
   "id": "be754ef2",
   "metadata": {},
   "outputs": [],
   "source": []
  }
 ],
 "metadata": {
  "kernelspec": {
   "display_name": "Python 3 (ipykernel)",
   "language": "python",
   "name": "python3"
  },
  "language_info": {
   "codemirror_mode": {
    "name": "ipython",
    "version": 3
   },
   "file_extension": ".py",
   "mimetype": "text/x-python",
   "name": "python",
   "nbconvert_exporter": "python",
   "pygments_lexer": "ipython3",
   "version": "3.11.5"
  }
 },
 "nbformat": 4,
 "nbformat_minor": 5
}
