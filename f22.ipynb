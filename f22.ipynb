{
 "cells": [
  {
   "cell_type": "markdown",
   "id": "78043298",
   "metadata": {},
   "source": [
    "# function in python"
   ]
  },
  {
   "cell_type": "code",
   "execution_count": 1,
   "id": "831172e7",
   "metadata": {},
   "outputs": [],
   "source": [
    "def snap():\n",
    "    print(\"help\")"
   ]
  },
  {
   "cell_type": "code",
   "execution_count": 2,
   "id": "dae994c7",
   "metadata": {},
   "outputs": [
    {
     "name": "stdout",
     "output_type": "stream",
     "text": [
      "help\n"
     ]
    }
   ],
   "source": [
    "snap()"
   ]
  },
  {
   "cell_type": "code",
   "execution_count": 3,
   "id": "7bfaeec9",
   "metadata": {},
   "outputs": [],
   "source": [
    "def hola():\n",
    "    pass"
   ]
  },
  {
   "cell_type": "code",
   "execution_count": 4,
   "id": "5bccac32",
   "metadata": {},
   "outputs": [],
   "source": [
    "def why():\n",
    "    pass"
   ]
  },
  {
   "cell_type": "code",
   "execution_count": 5,
   "id": "d70120aa",
   "metadata": {},
   "outputs": [],
   "source": [
    "why()"
   ]
  },
  {
   "cell_type": "code",
   "execution_count": 6,
   "id": "10abbd25",
   "metadata": {},
   "outputs": [],
   "source": [
    "def zahrah():\n",
    "    pass"
   ]
  },
  {
   "cell_type": "code",
   "execution_count": 7,
   "id": "66e4c1b5",
   "metadata": {},
   "outputs": [],
   "source": [
    "zahrah()"
   ]
  },
  {
   "cell_type": "code",
   "execution_count": 8,
   "id": "2c9dd610",
   "metadata": {},
   "outputs": [],
   "source": [
    "def CalmDown():\n",
    "    pass"
   ]
  },
  {
   "cell_type": "code",
   "execution_count": 9,
   "id": "2d90a0bc",
   "metadata": {},
   "outputs": [],
   "source": [
    "CalmDown()"
   ]
  },
  {
   "cell_type": "code",
   "execution_count": 10,
   "id": "18106340",
   "metadata": {},
   "outputs": [],
   "source": [
    "def fatimah():\n",
    "    pass"
   ]
  },
  {
   "cell_type": "code",
   "execution_count": 11,
   "id": "0c290f4c",
   "metadata": {},
   "outputs": [],
   "source": [
    "fatimah()"
   ]
  },
  {
   "cell_type": "code",
   "execution_count": 12,
   "id": "37c4756c",
   "metadata": {},
   "outputs": [],
   "source": [
    "def clock():\n",
    "    pass"
   ]
  },
  {
   "cell_type": "code",
   "execution_count": 13,
   "id": "348f16e8",
   "metadata": {},
   "outputs": [],
   "source": [
    "clock()"
   ]
  },
  {
   "cell_type": "code",
   "execution_count": 14,
   "id": "331da940",
   "metadata": {},
   "outputs": [],
   "source": [
    "def DND():\n",
    "    pass\n",
    "DND()"
   ]
  },
  {
   "cell_type": "code",
   "execution_count": 15,
   "id": "ce313f17",
   "metadata": {},
   "outputs": [],
   "source": [
    "def win():\n",
    "    pass\n",
    "win()"
   ]
  },
  {
   "cell_type": "code",
   "execution_count": 16,
   "id": "71fd7949",
   "metadata": {},
   "outputs": [],
   "source": [
    "def youtube():\n",
    "    pass\n"
   ]
  },
  {
   "cell_type": "code",
   "execution_count": 22,
   "id": "9aeec2ba",
   "metadata": {},
   "outputs": [
    {
     "name": "stdout",
     "output_type": "stream",
     "text": [
      "hi\n"
     ]
    }
   ],
   "source": [
    "def netflix():\n",
    "    print(\"hi\")\n",
    "netflix()#hi"
   ]
  },
  {
   "cell_type": "code",
   "execution_count": 23,
   "id": "2d5d4f3e",
   "metadata": {},
   "outputs": [
    {
     "name": "stdout",
     "output_type": "stream",
     "text": [
      "hi\n"
     ]
    }
   ],
   "source": [
    "netflix()"
   ]
  },
  {
   "cell_type": "markdown",
   "id": "98210207",
   "metadata": {},
   "source": [
    "# function with arguments"
   ]
  },
  {
   "cell_type": "code",
   "execution_count": 24,
   "id": "5036bbb7",
   "metadata": {},
   "outputs": [],
   "source": [
    "def typing(a):\n",
    "    pass \n"
   ]
  },
  {
   "cell_type": "code",
   "execution_count": 31,
   "id": "f3d9cb40",
   "metadata": {},
   "outputs": [],
   "source": [
    "typing(\"a\")"
   ]
  },
  {
   "cell_type": "code",
   "execution_count": 36,
   "id": "c83405bb",
   "metadata": {},
   "outputs": [],
   "source": [
    "def forty(b,w):\n",
    "    pass"
   ]
  },
  {
   "cell_type": "code",
   "execution_count": 38,
   "id": "e7fe0d27",
   "metadata": {},
   "outputs": [],
   "source": [
    "forty(\"asda\",2)"
   ]
  },
  {
   "cell_type": "code",
   "execution_count": null,
   "id": "5c788f0e",
   "metadata": {},
   "outputs": [],
   "source": []
  }
 ],
 "metadata": {
  "kernelspec": {
   "display_name": "Python 3 (ipykernel)",
   "language": "python",
   "name": "python3"
  },
  "language_info": {
   "codemirror_mode": {
    "name": "ipython",
    "version": 3
   },
   "file_extension": ".py",
   "mimetype": "text/x-python",
   "name": "python",
   "nbconvert_exporter": "python",
   "pygments_lexer": "ipython3",
   "version": "3.11.5"
  }
 },
 "nbformat": 4,
 "nbformat_minor": 5
}
