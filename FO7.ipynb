{
 "cells": [
  {
   "cell_type": "code",
   "execution_count": 1,
   "id": "82ae673b",
   "metadata": {},
   "outputs": [
    {
     "name": "stdout",
     "output_type": "stream",
     "text": [
      "Hello, World!\n"
     ]
    }
   ],
   "source": [
    "print(\"Hello, World!\")\n",
    "# Write it 10 time"
   ]
  },
  {
   "cell_type": "code",
   "execution_count": 2,
   "id": "9ca466cd",
   "metadata": {},
   "outputs": [
    {
     "name": "stdout",
     "output_type": "stream",
     "text": [
      "Hello World\n"
     ]
    }
   ],
   "source": [
    "print(\"Hello World\")"
   ]
  },
  {
   "cell_type": "code",
   "execution_count": 3,
   "id": "d649277e",
   "metadata": {},
   "outputs": [
    {
     "name": "stdout",
     "output_type": "stream",
     "text": [
      "Hello World\n"
     ]
    }
   ],
   "source": [
    "print(\"Hello World\")"
   ]
  },
  {
   "cell_type": "code",
   "execution_count": 4,
   "id": "e561fc2a",
   "metadata": {},
   "outputs": [
    {
     "name": "stdout",
     "output_type": "stream",
     "text": [
      "Hello World\n"
     ]
    }
   ],
   "source": [
    "print(\"Hello World\")"
   ]
  },
  {
   "cell_type": "code",
   "execution_count": 5,
   "id": "af778ed7",
   "metadata": {},
   "outputs": [
    {
     "name": "stdout",
     "output_type": "stream",
     "text": [
      "Hello World !\n"
     ]
    }
   ],
   "source": [
    "print (\"Hello World !\")"
   ]
  },
  {
   "cell_type": "code",
   "execution_count": 6,
   "id": "08709fd2",
   "metadata": {},
   "outputs": [
    {
     "name": "stdout",
     "output_type": "stream",
     "text": [
      "HELLO WORLD!\n"
     ]
    }
   ],
   "source": [
    "print(\"HELLO WORLD!\")"
   ]
  },
  {
   "cell_type": "code",
   "execution_count": 7,
   "id": "7028dc00",
   "metadata": {},
   "outputs": [
    {
     "name": "stdout",
     "output_type": "stream",
     "text": [
      "Hello World!\n"
     ]
    }
   ],
   "source": [
    "print(\"Hello World!\")"
   ]
  },
  {
   "cell_type": "code",
   "execution_count": 8,
   "id": "40bf19ee",
   "metadata": {},
   "outputs": [
    {
     "name": "stdout",
     "output_type": "stream",
     "text": [
      "The Quick Brown Fox Jumps Over The Lazy Dog\n"
     ]
    }
   ],
   "source": [
    "print(\"The Quick Brown Fox Jumps Over The Lazy Dog\")"
   ]
  },
  {
   "cell_type": "code",
   "execution_count": 9,
   "id": "9662785f",
   "metadata": {},
   "outputs": [
    {
     "name": "stdout",
     "output_type": "stream",
     "text": [
      "The Quick Brown Fox Jumps Over The Lazy DOG\n"
     ]
    }
   ],
   "source": [
    "print(\"The Quick Brown Fox Jumps Over The Lazy DOG\")"
   ]
  },
  {
   "cell_type": "code",
   "execution_count": 10,
   "id": "3a9a8222",
   "metadata": {},
   "outputs": [
    {
     "name": "stdout",
     "output_type": "stream",
     "text": [
      "the quick brown fox  jumps over  the lazy dog\n"
     ]
    }
   ],
   "source": [
    "print(\"the quick brown fox  jumps over  the lazy dog\")"
   ]
  },
  {
   "cell_type": "code",
   "execution_count": 11,
   "id": "e28eda09",
   "metadata": {},
   "outputs": [
    {
     "name": "stdout",
     "output_type": "stream",
     "text": [
      "The quick brown fox jumps over the lazy dog\n"
     ]
    }
   ],
   "source": [
    "print(\"The quick brown fox jumps over the lazy dog\")"
   ]
  },
  {
   "cell_type": "code",
   "execution_count": 12,
   "id": "f806efc2",
   "metadata": {},
   "outputs": [
    {
     "name": "stdout",
     "output_type": "stream",
     "text": [
      "the quick brown fox jumps over the lazy dog\n"
     ]
    }
   ],
   "source": [
    "print (\"the quick brown fox jumps over the lazy dog\")"
   ]
  },
  {
   "cell_type": "code",
   "execution_count": 13,
   "id": "5639ea5a",
   "metadata": {},
   "outputs": [
    {
     "name": "stdout",
     "output_type": "stream",
     "text": [
      "Enter your name: Fatimah\n",
      "Hello, Fatimah!\n"
     ]
    }
   ],
   "source": [
    "name = input(\"Enter your name: \")\n",
    "print(\"Hello, \" + name + \"!\")\n"
   ]
  },
  {
   "cell_type": "code",
   "execution_count": 14,
   "id": "7fd01632",
   "metadata": {},
   "outputs": [
    {
     "name": "stdout",
     "output_type": "stream",
     "text": [
      "enter your name:Fatimah\n",
      "Hello , Fatimah!\n"
     ]
    }
   ],
   "source": [
    "name=input(\"enter your name:\")\n",
    "print (\"Hello , \" +name+ \"!\" )"
   ]
  },
  {
   "cell_type": "code",
   "execution_count": 15,
   "id": "2e759a75",
   "metadata": {},
   "outputs": [
    {
     "name": "stdout",
     "output_type": "stream",
     "text": [
      "enter your name:fatimah\n",
      "Hello ,fatimah!\n"
     ]
    }
   ],
   "source": [
    "name=input (\"enter your name:\")\n",
    "print (\"Hello ,\" +name+ \"!\")"
   ]
  },
  {
   "cell_type": "code",
   "execution_count": 16,
   "id": "f236874c",
   "metadata": {},
   "outputs": [
    {
     "name": "stdout",
     "output_type": "stream",
     "text": [
      "enter your name:fatimah\n",
      " Hello  ,fatimah!\n"
     ]
    }
   ],
   "source": [
    "name =input (\"enter your name:\")\n",
    "print (\" Hello  ,\" + name+\"!\")"
   ]
  },
  {
   "cell_type": "code",
   "execution_count": 17,
   "id": "e7c33286",
   "metadata": {},
   "outputs": [
    {
     "name": "stdout",
     "output_type": "stream",
     "text": [
      "How Are You? fine\n"
     ]
    }
   ],
   "source": [
    "a = input(\"How Are You? \")"
   ]
  },
  {
   "cell_type": "code",
   "execution_count": 18,
   "id": "8bca0cd3",
   "metadata": {},
   "outputs": [
    {
     "data": {
      "text/plain": [
       "str"
      ]
     },
     "execution_count": 18,
     "metadata": {},
     "output_type": "execute_result"
    }
   ],
   "source": [
    "type(a)"
   ]
  },
  {
   "cell_type": "code",
   "execution_count": 19,
   "id": "2220ebcc",
   "metadata": {},
   "outputs": [
    {
     "name": "stdout",
     "output_type": "stream",
     "text": [
      "How Are You? 12\n"
     ]
    }
   ],
   "source": [
    "a = input(\"How Are You? \")"
   ]
  },
  {
   "cell_type": "markdown",
   "id": "ad37fa66",
   "metadata": {},
   "source": [
    "# input function always return String"
   ]
  },
  {
   "cell_type": "code",
   "execution_count": 20,
   "id": "f018c193",
   "metadata": {},
   "outputs": [
    {
     "data": {
      "text/plain": [
       "str"
      ]
     },
     "execution_count": 20,
     "metadata": {},
     "output_type": "execute_result"
    }
   ],
   "source": [
    "type(a)"
   ]
  },
  {
   "cell_type": "code",
   "execution_count": 22,
   "id": "500e7cac",
   "metadata": {},
   "outputs": [
    {
     "name": "stdout",
     "output_type": "stream",
     "text": [
      "How Are You? 12\n"
     ]
    }
   ],
   "source": [
    "a = int(input(\"How Are You? \"))"
   ]
  },
  {
   "cell_type": "code",
   "execution_count": null,
   "id": "307298b6",
   "metadata": {},
   "outputs": [],
   "source": []
  }
 ],
 "metadata": {
  "kernelspec": {
   "display_name": "Python 3 (ipykernel)",
   "language": "python",
   "name": "python3"
  },
  "language_info": {
   "codemirror_mode": {
    "name": "ipython",
    "version": 3
   },
   "file_extension": ".py",
   "mimetype": "text/x-python",
   "name": "python",
   "nbconvert_exporter": "python",
   "pygments_lexer": "ipython3",
   "version": "3.11.5"
  }
 },
 "nbformat": 4,
 "nbformat_minor": 5
}
