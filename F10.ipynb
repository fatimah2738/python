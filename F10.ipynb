{
 "cells": [
  {
   "cell_type": "markdown",
   "id": "1210ce81",
   "metadata": {},
   "source": [
    "# List in Python"
   ]
  },
  {
   "cell_type": "markdown",
   "id": "88a0cda1",
   "metadata": {},
   "source": [
    "# What is a list in Python?"
   ]
  },
  {
   "cell_type": "code",
   "execution_count": 3,
   "id": "4ffbfd86",
   "metadata": {},
   "outputs": [
    {
     "data": {
      "text/plain": [
       "'\\nA list is a collection of items that can hold different data types,\\nsuch as numbers, strings, or even other lists. It is created using\\nsquare brackets [] and items separated by commas.\\n'"
      ]
     },
     "execution_count": 3,
     "metadata": {},
     "output_type": "execute_result"
    }
   ],
   "source": [
    "\"\"\"\n",
    "A list is a collection of items that can hold different data types,\n",
    "such as numbers, strings, or even other lists. It is created using\n",
    "square brackets [] and items separated by commas.\n",
    "\"\"\""
   ]
  },
  {
   "cell_type": "code",
   "execution_count": 4,
   "id": "6e089a69",
   "metadata": {},
   "outputs": [],
   "source": [
    "Hello = []"
   ]
  },
  {
   "cell_type": "code",
   "execution_count": 7,
   "id": "1c4390df",
   "metadata": {},
   "outputs": [
    {
     "data": {
      "text/plain": [
       "list"
      ]
     },
     "execution_count": 7,
     "metadata": {},
     "output_type": "execute_result"
    }
   ],
   "source": [
    "type(Hello)"
   ]
  },
  {
   "cell_type": "code",
   "execution_count": 11,
   "id": "b442ddb2",
   "metadata": {},
   "outputs": [
    {
     "data": {
      "text/plain": [
       "bool"
      ]
     },
     "execution_count": 11,
     "metadata": {},
     "output_type": "execute_result"
    }
   ],
   "source": [
    "a = True\n",
    "type(a)"
   ]
  },
  {
   "cell_type": "code",
   "execution_count": 12,
   "id": "9c374131",
   "metadata": {},
   "outputs": [],
   "source": [
    "list1=[1,2,\"Apple\",True,22.2]"
   ]
  },
  {
   "cell_type": "markdown",
   "id": "fe0630ab",
   "metadata": {},
   "source": [
    "# How to create a list with elements?\n"
   ]
  },
  {
   "cell_type": "code",
   "execution_count": 13,
   "id": "2f2f1400",
   "metadata": {},
   "outputs": [],
   "source": [
    "list2=[5,7,9,0,5,3,2]"
   ]
  },
  {
   "cell_type": "markdown",
   "id": "2ca71b9f",
   "metadata": {},
   "source": [
    "# Can a list contain different data types?"
   ]
  },
  {
   "cell_type": "code",
   "execution_count": 14,
   "id": "6eb4923b",
   "metadata": {},
   "outputs": [],
   "source": [
    "list3=[5,6,7,\"cat\",\"bat\",False,16.28]"
   ]
  },
  {
   "cell_type": "code",
   "execution_count": 15,
   "id": "514c5197",
   "metadata": {},
   "outputs": [
    {
     "name": "stdout",
     "output_type": "stream",
     "text": [
      "[1, 2, 'Apple', True, 22.2]\n"
     ]
    }
   ],
   "source": [
    "print(list1)"
   ]
  },
  {
   "cell_type": "code",
   "execution_count": 16,
   "id": "aa1f7d3e",
   "metadata": {},
   "outputs": [
    {
     "data": {
      "text/plain": [
       "[5, 7, 9, 0, 5, 3, 2]"
      ]
     },
     "execution_count": 16,
     "metadata": {},
     "output_type": "execute_result"
    }
   ],
   "source": [
    "list2"
   ]
  },
  {
   "cell_type": "code",
   "execution_count": 17,
   "id": "45a3945a",
   "metadata": {},
   "outputs": [
    {
     "name": "stdout",
     "output_type": "stream",
     "text": [
      "[5, 6, 7, 'cat', 'bat', False, 16.28]\n"
     ]
    }
   ],
   "source": [
    "print(list3)"
   ]
  },
  {
   "cell_type": "markdown",
   "id": "4c64109b",
   "metadata": {},
   "source": [
    "# How to access elements in a list?"
   ]
  },
  {
   "cell_type": "code",
   "execution_count": 18,
   "id": "4ac6392e",
   "metadata": {},
   "outputs": [
    {
     "data": {
      "text/plain": [
       "5"
      ]
     },
     "execution_count": 18,
     "metadata": {},
     "output_type": "execute_result"
    }
   ],
   "source": [
    "list3[0]"
   ]
  },
  {
   "cell_type": "code",
   "execution_count": 20,
   "id": "ff261510",
   "metadata": {},
   "outputs": [
    {
     "data": {
      "text/plain": [
       "'cat'"
      ]
     },
     "execution_count": 20,
     "metadata": {},
     "output_type": "execute_result"
    }
   ],
   "source": [
    "list3[3]"
   ]
  },
  {
   "cell_type": "code",
   "execution_count": 23,
   "id": "a7e25af6",
   "metadata": {},
   "outputs": [
    {
     "data": {
      "text/plain": [
       "['cat', 'bat']"
      ]
     },
     "execution_count": 23,
     "metadata": {},
     "output_type": "execute_result"
    }
   ],
   "source": [
    "list3[3:5] # you should start with 3 index number and print to 5 length number \n",
    "#  I know the index number starts with 0 and the length number starts with 1."
   ]
  },
  {
   "cell_type": "code",
   "execution_count": 24,
   "id": "403deac4",
   "metadata": {},
   "outputs": [
    {
     "data": {
      "text/plain": [
       "[5, 6, 7, 'cat', 'bat', False, 16.28]"
      ]
     },
     "execution_count": 24,
     "metadata": {},
     "output_type": "execute_result"
    }
   ],
   "source": [
    "list3"
   ]
  },
  {
   "cell_type": "markdown",
   "id": "b913efdf",
   "metadata": {},
   "source": [
    "# How to add elements to a list?"
   ]
  },
  {
   "cell_type": "code",
   "execution_count": 25,
   "id": "0b81d9ce",
   "metadata": {},
   "outputs": [],
   "source": [
    "list3.append(52)"
   ]
  },
  {
   "cell_type": "code",
   "execution_count": 26,
   "id": "324c2ba1",
   "metadata": {},
   "outputs": [
    {
     "data": {
      "text/plain": [
       "[5, 6, 7, 'cat', 'bat', False, 16.28, 52]"
      ]
     },
     "execution_count": 26,
     "metadata": {},
     "output_type": "execute_result"
    }
   ],
   "source": [
    "list3"
   ]
  },
  {
   "cell_type": "code",
   "execution_count": 28,
   "id": "91b98a3d",
   "metadata": {},
   "outputs": [],
   "source": [
    "list3.append(\"frog\")\n",
    "list3.append(5.9)"
   ]
  },
  {
   "cell_type": "code",
   "execution_count": 29,
   "id": "8d3e54ad",
   "metadata": {},
   "outputs": [
    {
     "data": {
      "text/plain": [
       "[5, 6, 7, 'cat', 'bat', False, 16.28, 52, 'frog', 5.9]"
      ]
     },
     "execution_count": 29,
     "metadata": {},
     "output_type": "execute_result"
    }
   ],
   "source": [
    "list3"
   ]
  },
  {
   "cell_type": "markdown",
   "id": "bc96a4a3",
   "metadata": {},
   "source": [
    "# How to remove elements from a list?"
   ]
  },
  {
   "cell_type": "code",
   "execution_count": 38,
   "id": "ad6b1579",
   "metadata": {},
   "outputs": [
    {
     "data": {
      "text/plain": [
       "[5, 6, 'cat', False, 16.28, 52, 'frog', 5.9]"
      ]
     },
     "execution_count": 38,
     "metadata": {},
     "output_type": "execute_result"
    }
   ],
   "source": [
    "list3"
   ]
  },
  {
   "cell_type": "code",
   "execution_count": 39,
   "id": "0de5e987",
   "metadata": {},
   "outputs": [],
   "source": [
    "list3.remove(6)"
   ]
  },
  {
   "cell_type": "code",
   "execution_count": 40,
   "id": "50d9e330",
   "metadata": {},
   "outputs": [
    {
     "data": {
      "text/plain": [
       "[5, 'cat', False, 16.28, 52, 'frog', 5.9]"
      ]
     },
     "execution_count": 40,
     "metadata": {},
     "output_type": "execute_result"
    }
   ],
   "source": [
    "list3"
   ]
  },
  {
   "cell_type": "code",
   "execution_count": 41,
   "id": "e9bc8422",
   "metadata": {},
   "outputs": [],
   "source": [
    "list3.remove(52)"
   ]
  },
  {
   "cell_type": "code",
   "execution_count": 42,
   "id": "f851f0d7",
   "metadata": {},
   "outputs": [
    {
     "data": {
      "text/plain": [
       "[5, 'cat', False, 16.28, 'frog', 5.9]"
      ]
     },
     "execution_count": 42,
     "metadata": {},
     "output_type": "execute_result"
    }
   ],
   "source": [
    "list3"
   ]
  },
  {
   "cell_type": "markdown",
   "id": "fb85cf91",
   "metadata": {},
   "source": [
    "\"\"\"\n",
    "The pop() method in Python is used to remove and return \n",
    "an element at a specific index from a list. When you call list.pop(index), \n",
    "it removes the element at the specified index and returns that element.\n",
    "\"\"\""
   ]
  },
  {
   "cell_type": "code",
   "execution_count": 46,
   "id": "8fb1726d",
   "metadata": {},
   "outputs": [
    {
     "data": {
      "text/plain": [
       "False"
      ]
     },
     "execution_count": 46,
     "metadata": {},
     "output_type": "execute_result"
    }
   ],
   "source": [
    "list3.pop(2)"
   ]
  },
  {
   "cell_type": "code",
   "execution_count": 47,
   "id": "6da86ca8",
   "metadata": {},
   "outputs": [
    {
     "data": {
      "text/plain": [
       "[5, 'cat', 16.28, 'frog', 5.9]"
      ]
     },
     "execution_count": 47,
     "metadata": {},
     "output_type": "execute_result"
    }
   ],
   "source": [
    "list3"
   ]
  },
  {
   "cell_type": "code",
   "execution_count": 48,
   "id": "98ce07fb",
   "metadata": {},
   "outputs": [
    {
     "data": {
      "text/plain": [
       "5.9"
      ]
     },
     "execution_count": 48,
     "metadata": {},
     "output_type": "execute_result"
    }
   ],
   "source": [
    "list3.pop(4)"
   ]
  },
  {
   "cell_type": "code",
   "execution_count": 49,
   "id": "278bdc7b",
   "metadata": {},
   "outputs": [
    {
     "data": {
      "text/plain": [
       "[5, 'cat', 16.28, 'frog']"
      ]
     },
     "execution_count": 49,
     "metadata": {},
     "output_type": "execute_result"
    }
   ],
   "source": [
    "list3"
   ]
  },
  {
   "cell_type": "code",
   "execution_count": 50,
   "id": "a71ea3bd",
   "metadata": {},
   "outputs": [],
   "source": [
    "list3.append(5.9)"
   ]
  },
  {
   "cell_type": "code",
   "execution_count": 51,
   "id": "b356843f",
   "metadata": {},
   "outputs": [
    {
     "data": {
      "text/plain": [
       "[5, 'cat', 16.28, 'frog', 5.9]"
      ]
     },
     "execution_count": 51,
     "metadata": {},
     "output_type": "execute_result"
    }
   ],
   "source": [
    "list3"
   ]
  },
  {
   "cell_type": "code",
   "execution_count": 52,
   "id": "fee3df68",
   "metadata": {},
   "outputs": [
    {
     "data": {
      "text/plain": [
       "'frog'"
      ]
     },
     "execution_count": 52,
     "metadata": {},
     "output_type": "execute_result"
    }
   ],
   "source": [
    "list3.pop(3)"
   ]
  },
  {
   "cell_type": "code",
   "execution_count": 53,
   "id": "0ca4ff7f",
   "metadata": {},
   "outputs": [
    {
     "data": {
      "text/plain": [
       "[5, 'cat', 16.28, 5.9]"
      ]
     },
     "execution_count": 53,
     "metadata": {},
     "output_type": "execute_result"
    }
   ],
   "source": [
    "list3"
   ]
  },
  {
   "cell_type": "code",
   "execution_count": null,
   "id": "607bda85",
   "metadata": {},
   "outputs": [],
   "source": []
  }
 ],
 "metadata": {
  "kernelspec": {
   "display_name": "Python 3 (ipykernel)",
   "language": "python",
   "name": "python3"
  },
  "language_info": {
   "codemirror_mode": {
    "name": "ipython",
    "version": 3
   },
   "file_extension": ".py",
   "mimetype": "text/x-python",
   "name": "python",
   "nbconvert_exporter": "python",
   "pygments_lexer": "ipython3",
   "version": "3.11.5"
  }
 },
 "nbformat": 4,
 "nbformat_minor": 5
}
