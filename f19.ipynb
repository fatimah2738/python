{
 "cells": [
  {
   "cell_type": "markdown",
   "id": "75ea5675",
   "metadata": {},
   "source": [
    "# function in python"
   ]
  },
  {
   "cell_type": "markdown",
   "id": "abff7353",
   "metadata": {},
   "source": [
    "# Functions are defined using the def keyword, followed by the function name and parentheses."
   ]
  },
  {
   "cell_type": "code",
   "execution_count": 1,
   "id": "321dcc26",
   "metadata": {},
   "outputs": [],
   "source": [
    "def greet():\n",
    "    print(\"good morning\")\n",
    "    print(\"good afternoon\")"
   ]
  },
  {
   "cell_type": "markdown",
   "id": "f69394b4",
   "metadata": {},
   "source": [
    "# After defining a function, you can call it to execute the code inside. Call a function by using its name followed by parentheses."
   ]
  },
  {
   "cell_type": "code",
   "execution_count": 2,
   "id": "040561f7",
   "metadata": {},
   "outputs": [
    {
     "name": "stdout",
     "output_type": "stream",
     "text": [
      "good morning\n",
      "good afternoon\n"
     ]
    }
   ],
   "source": [
    "greet()"
   ]
  },
  {
   "cell_type": "code",
   "execution_count": 3,
   "id": "e6c5e6e0",
   "metadata": {},
   "outputs": [
    {
     "name": "stdout",
     "output_type": "stream",
     "text": [
      "good morning\n",
      "good afternoon\n"
     ]
    }
   ],
   "source": [
    "greet()"
   ]
  },
  {
   "cell_type": "code",
   "execution_count": 4,
   "id": "d62a448d",
   "metadata": {},
   "outputs": [
    {
     "name": "stdout",
     "output_type": "stream",
     "text": [
      "good morning\n",
      "good afternoon\n"
     ]
    }
   ],
   "source": [
    "greet()"
   ]
  },
  {
   "cell_type": "code",
   "execution_count": 5,
   "id": "bc7126ea",
   "metadata": {},
   "outputs": [],
   "source": [
    "def hello():\n",
    "    print(\"naughty girl Zahrah\")\n",
    "    print(\" good girl zahrah\")"
   ]
  },
  {
   "cell_type": "code",
   "execution_count": 6,
   "id": "ce452eaa",
   "metadata": {},
   "outputs": [
    {
     "name": "stdout",
     "output_type": "stream",
     "text": [
      "naughty girl Zahrah\n",
      " good girl zahrah\n"
     ]
    }
   ],
   "source": [
    "hello()"
   ]
  },
  {
   "cell_type": "markdown",
   "id": "e763a3bc",
   "metadata": {},
   "source": [
    "# Functions can take parameters (inputs) to perform tasks with specific values. Parameters are defined within the parentheses."
   ]
  },
  {
   "cell_type": "code",
   "execution_count": 10,
   "id": "8ccfa238",
   "metadata": {},
   "outputs": [],
   "source": [
    "def f(name):\n",
    "    print(\"Hello\",name)"
   ]
  },
  {
   "cell_type": "markdown",
   "id": "b4489d6b",
   "metadata": {},
   "source": [
    "# When calling a function with parameters, you pass values called arguments. Arguments are the actual values for the parameters."
   ]
  },
  {
   "cell_type": "code",
   "execution_count": 11,
   "id": "eb7defd7",
   "metadata": {},
   "outputs": [
    {
     "name": "stdout",
     "output_type": "stream",
     "text": [
      "Hello zahrah\n"
     ]
    }
   ],
   "source": [
    "f(\"zahrah\")"
   ]
  },
  {
   "cell_type": "code",
   "execution_count": 13,
   "id": "5f7fb7b3",
   "metadata": {},
   "outputs": [
    {
     "name": "stdout",
     "output_type": "stream",
     "text": [
      "Hello zahra fatimah\n"
     ]
    }
   ],
   "source": [
    "f(\"zahra fatimah\")"
   ]
  },
  {
   "cell_type": "code",
   "execution_count": 16,
   "id": "1cd20903",
   "metadata": {},
   "outputs": [],
   "source": [
    "def sum1(a,b):\n",
    "    return a+b"
   ]
  },
  {
   "cell_type": "code",
   "execution_count": 17,
   "id": "5e7b068f",
   "metadata": {},
   "outputs": [
    {
     "data": {
      "text/plain": [
       "5"
      ]
     },
     "execution_count": 17,
     "metadata": {},
     "output_type": "execute_result"
    }
   ],
   "source": [
    "sum1(2,3)"
   ]
  },
  {
   "cell_type": "code",
   "execution_count": 18,
   "id": "fb340aaa",
   "metadata": {},
   "outputs": [
    {
     "data": {
      "text/plain": [
       "44"
      ]
     },
     "execution_count": 18,
     "metadata": {},
     "output_type": "execute_result"
    }
   ],
   "source": [
    "sum1(16,28)"
   ]
  },
  {
   "cell_type": "code",
   "execution_count": 19,
   "id": "76a08ea7",
   "metadata": {},
   "outputs": [
    {
     "data": {
      "text/plain": [
       "30"
      ]
     },
     "execution_count": 19,
     "metadata": {},
     "output_type": "execute_result"
    }
   ],
   "source": [
    "sum1(15,15)"
   ]
  },
  {
   "cell_type": "code",
   "execution_count": 20,
   "id": "a93f20e9",
   "metadata": {},
   "outputs": [],
   "source": [
    "def sub(f,a):\n",
    "    return f-a"
   ]
  },
  {
   "cell_type": "code",
   "execution_count": 21,
   "id": "1ecdef0f",
   "metadata": {},
   "outputs": [
    {
     "data": {
      "text/plain": [
       "12"
      ]
     },
     "execution_count": 21,
     "metadata": {},
     "output_type": "execute_result"
    }
   ],
   "source": [
    "sub(28,16)"
   ]
  },
  {
   "cell_type": "code",
   "execution_count": 22,
   "id": "5c4f9134",
   "metadata": {},
   "outputs": [
    {
     "data": {
      "text/plain": [
       "50"
      ]
     },
     "execution_count": 22,
     "metadata": {},
     "output_type": "execute_result"
    }
   ],
   "source": [
    "sub(100,50)"
   ]
  },
  {
   "cell_type": "code",
   "execution_count": 23,
   "id": "a65f395d",
   "metadata": {},
   "outputs": [],
   "source": [
    "def mul(h,j):\n",
    "    return h*j\n",
    "def div (a,f):\n",
    "    return a/f"
   ]
  },
  {
   "cell_type": "code",
   "execution_count": 24,
   "id": "503a0a30",
   "metadata": {},
   "outputs": [
    {
     "data": {
      "text/plain": [
       "<function __main__.mul(h, j)>"
      ]
     },
     "execution_count": 24,
     "metadata": {},
     "output_type": "execute_result"
    }
   ],
   "source": [
    "mul"
   ]
  },
  {
   "cell_type": "code",
   "execution_count": 26,
   "id": "c6e96fb4",
   "metadata": {},
   "outputs": [
    {
     "data": {
      "text/plain": [
       "36"
      ]
     },
     "execution_count": 26,
     "metadata": {},
     "output_type": "execute_result"
    }
   ],
   "source": [
    "mul(12,3)"
   ]
  },
  {
   "cell_type": "code",
   "execution_count": 27,
   "id": "8f74c6ff",
   "metadata": {},
   "outputs": [
    {
     "data": {
      "text/plain": [
       "6.0"
      ]
     },
     "execution_count": 27,
     "metadata": {},
     "output_type": "execute_result"
    }
   ],
   "source": [
    "div (30,5)"
   ]
  },
  {
   "cell_type": "code",
   "execution_count": 28,
   "id": "07daa901",
   "metadata": {},
   "outputs": [],
   "source": [
    "def add(a,f,n,h):\n",
    "    return a+f+n+h"
   ]
  },
  {
   "cell_type": "code",
   "execution_count": 29,
   "id": "93fed966",
   "metadata": {},
   "outputs": [
    {
     "data": {
      "text/plain": [
       "10"
      ]
     },
     "execution_count": 29,
     "metadata": {},
     "output_type": "execute_result"
    }
   ],
   "source": [
    "add(1,2,3,4)"
   ]
  },
  {
   "cell_type": "code",
   "execution_count": 30,
   "id": "73e04887",
   "metadata": {},
   "outputs": [],
   "source": [
    "v=12\n",
    "def b():\n",
    "    global v\n",
    "    return v\n"
   ]
  },
  {
   "cell_type": "code",
   "execution_count": 31,
   "id": "e68a6571",
   "metadata": {},
   "outputs": [
    {
     "data": {
      "text/plain": [
       "12"
      ]
     },
     "execution_count": 31,
     "metadata": {},
     "output_type": "execute_result"
    }
   ],
   "source": [
    "v"
   ]
  },
  {
   "cell_type": "code",
   "execution_count": 33,
   "id": "5c9bbeb1",
   "metadata": {},
   "outputs": [
    {
     "data": {
      "text/plain": [
       "12"
      ]
     },
     "execution_count": 33,
     "metadata": {},
     "output_type": "execute_result"
    }
   ],
   "source": [
    "b()"
   ]
  },
  {
   "cell_type": "code",
   "execution_count": 37,
   "id": "84c54f13",
   "metadata": {},
   "outputs": [
    {
     "name": "stdout",
     "output_type": "stream",
     "text": [
      "Enter Your Name : Fatimah\n",
      "Hello Fatimah\n"
     ]
    }
   ],
   "source": [
    "name = input(\"Enter Your Name : \")\n",
    "def hello():\n",
    "    global name\n",
    "    print(\"Hello\", name)\n",
    "hello()"
   ]
  },
  {
   "cell_type": "code",
   "execution_count": 39,
   "id": "debd395b",
   "metadata": {},
   "outputs": [
    {
     "name": "stdout",
     "output_type": "stream",
     "text": [
      "Enter Your Name : fatimah\n",
      "Good Evening! :  fatimah\n"
     ]
    }
   ],
   "source": [
    "name = input(\"Enter Your Name : \")\n",
    "def hello():\n",
    "    global name\n",
    "    print(\"Good Evening! : \", name)\n",
    "hello()"
   ]
  },
  {
   "cell_type": "code",
   "execution_count": null,
   "id": "3b1b6832",
   "metadata": {},
   "outputs": [],
   "source": []
  },
  {
   "cell_type": "code",
   "execution_count": null,
   "id": "5b6e25cd",
   "metadata": {},
   "outputs": [],
   "source": []
  }
 ],
 "metadata": {
  "kernelspec": {
   "display_name": "Python 3 (ipykernel)",
   "language": "python",
   "name": "python3"
  },
  "language_info": {
   "codemirror_mode": {
    "name": "ipython",
    "version": 3
   },
   "file_extension": ".py",
   "mimetype": "text/x-python",
   "name": "python",
   "nbconvert_exporter": "python",
   "pygments_lexer": "ipython3",
   "version": "3.11.5"
  }
 },
 "nbformat": 4,
 "nbformat_minor": 5
}
