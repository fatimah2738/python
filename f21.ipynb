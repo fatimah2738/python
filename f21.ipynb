{
 "cells": [
  {
   "cell_type": "markdown",
   "id": "c32e3e07",
   "metadata": {},
   "source": [
    "# function in python"
   ]
  },
  {
   "cell_type": "code",
   "execution_count": 1,
   "id": "940bdae3",
   "metadata": {},
   "outputs": [],
   "source": [
    "def af23():\n",
    "    print(\"hello\")"
   ]
  },
  {
   "cell_type": "code",
   "execution_count": 2,
   "id": "1ad59f39",
   "metadata": {},
   "outputs": [
    {
     "name": "stdout",
     "output_type": "stream",
     "text": [
      "hello\n"
     ]
    }
   ],
   "source": [
    "af23()"
   ]
  },
  {
   "cell_type": "code",
   "execution_count": 10,
   "id": "9dc1faf1",
   "metadata": {},
   "outputs": [],
   "source": [
    "def fa1628(hey,faanie):    \n",
    "    print(hey,faanie)"
   ]
  },
  {
   "cell_type": "code",
   "execution_count": 11,
   "id": "c81d51c1",
   "metadata": {},
   "outputs": [
    {
     "name": "stdout",
     "output_type": "stream",
     "text": [
      "Hello annoying orange\n"
     ]
    }
   ],
   "source": [
    "fa1628(\"Hello\",\"annoying orange\")"
   ]
  },
  {
   "cell_type": "code",
   "execution_count": 12,
   "id": "41618a89",
   "metadata": {},
   "outputs": [],
   "source": [
    "def fff():\n",
    "    print(\"a,f,y,a\")"
   ]
  },
  {
   "cell_type": "code",
   "execution_count": 14,
   "id": "3889495d",
   "metadata": {},
   "outputs": [
    {
     "name": "stdout",
     "output_type": "stream",
     "text": [
      "a,f,y,a\n"
     ]
    }
   ],
   "source": [
    "fff()"
   ]
  },
  {
   "cell_type": "code",
   "execution_count": 15,
   "id": "d942fde4",
   "metadata": {},
   "outputs": [
    {
     "name": "stdout",
     "output_type": "stream",
     "text": [
      "helo\n"
     ]
    }
   ],
   "source": [
    "print(\"helo\")"
   ]
  },
  {
   "cell_type": "code",
   "execution_count": 16,
   "id": "038994c0",
   "metadata": {},
   "outputs": [],
   "source": [
    "def fafa(j):\n",
    "    print(j)"
   ]
  },
  {
   "cell_type": "code",
   "execution_count": 23,
   "id": "8de82e71",
   "metadata": {},
   "outputs": [
    {
     "name": "stdout",
     "output_type": "stream",
     "text": [
      "3\n"
     ]
    }
   ],
   "source": [
    "fafa(3)"
   ]
  },
  {
   "cell_type": "code",
   "execution_count": 24,
   "id": "4c1871a0",
   "metadata": {},
   "outputs": [
    {
     "name": "stdout",
     "output_type": "stream",
     "text": [
      "4\n"
     ]
    }
   ],
   "source": [
    "print(4)"
   ]
  },
  {
   "cell_type": "code",
   "execution_count": 25,
   "id": "29884575",
   "metadata": {},
   "outputs": [
    {
     "name": "stdout",
     "output_type": "stream",
     "text": [
      "Fatimah\n"
     ]
    }
   ],
   "source": [
    "print(\"Fatimah\")"
   ]
  },
  {
   "cell_type": "code",
   "execution_count": 26,
   "id": "e972dd15",
   "metadata": {},
   "outputs": [
    {
     "name": "stdout",
     "output_type": "stream",
     "text": [
      "Fatimah\n"
     ]
    }
   ],
   "source": [
    "fafa(\"Fatimah\")"
   ]
  },
  {
   "cell_type": "code",
   "execution_count": 27,
   "id": "61c7f6b8",
   "metadata": {},
   "outputs": [],
   "source": [
    "def aaff(a):\n",
    "    print(a)"
   ]
  },
  {
   "cell_type": "code",
   "execution_count": 28,
   "id": "d650400c",
   "metadata": {},
   "outputs": [
    {
     "name": "stdout",
     "output_type": "stream",
     "text": [
      "5\n"
     ]
    }
   ],
   "source": [
    "aaff(5)"
   ]
  },
  {
   "cell_type": "code",
   "execution_count": 31,
   "id": "756e1751",
   "metadata": {},
   "outputs": [],
   "source": [
    "def faatyiamaaah(ffaa):\n",
    "    print (ffaa)"
   ]
  },
  {
   "cell_type": "code",
   "execution_count": 33,
   "id": "d0b6f52b",
   "metadata": {},
   "outputs": [],
   "source": [
    "# the \"def\" keyword is uded to define a function\n",
    "# \"faatyiamaaah\" is the name af the function\n",
    "#  \"ffaa\" is an input parameter that the function can accept\n",
    "\n"
   ]
  },
  {
   "cell_type": "code",
   "execution_count": null,
   "id": "fd85d784",
   "metadata": {},
   "outputs": [],
   "source": []
  }
 ],
 "metadata": {
  "kernelspec": {
   "display_name": "Python 3 (ipykernel)",
   "language": "python",
   "name": "python3"
  },
  "language_info": {
   "codemirror_mode": {
    "name": "ipython",
    "version": 3
   },
   "file_extension": ".py",
   "mimetype": "text/x-python",
   "name": "python",
   "nbconvert_exporter": "python",
   "pygments_lexer": "ipython3",
   "version": "3.11.5"
  }
 },
 "nbformat": 4,
 "nbformat_minor": 5
}
