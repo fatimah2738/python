{
 "cells": [
  {
   "cell_type": "markdown",
   "id": "493eff77",
   "metadata": {},
   "source": [
    "# for loop in python"
   ]
  },
  {
   "cell_type": "markdown",
   "id": "a4e24a33",
   "metadata": {},
   "source": [
    "# In Python, a for loop is used to iterate over a sequence (such as a list, tuple, string, or dictionary) or an iterable object."
   ]
  },
  {
   "cell_type": "markdown",
   "id": "6f27cafc",
   "metadata": {},
   "source": [
    "# range  \n"
   ]
  },
  {
   "cell_type": "markdown",
   "id": "bd85dd6d",
   "metadata": {},
   "source": [
    "# range(start, stop, step)\n"
   ]
  },
  {
   "cell_type": "code",
   "execution_count": 11,
   "id": "f3415b7b",
   "metadata": {},
   "outputs": [
    {
     "name": "stdout",
     "output_type": "stream",
     "text": [
      "1 phone\n",
      "3 phone\n",
      "5 phone\n",
      "7 phone\n",
      "9 phone\n",
      "11 phone\n",
      "13 phone\n",
      "15 phone\n",
      "17 phone\n",
      "19 phone\n",
      "21 phone\n",
      "23 phone\n",
      "25 phone\n",
      "27 phone\n",
      "29 phone\n",
      "31 phone\n",
      "33 phone\n",
      "35 phone\n",
      "37 phone\n",
      "39 phone\n",
      "41 phone\n",
      "43 phone\n",
      "45 phone\n",
      "47 phone\n",
      "49 phone\n",
      "51 phone\n",
      "53 phone\n",
      "55 phone\n",
      "57 phone\n",
      "59 phone\n",
      "61 phone\n",
      "63 phone\n",
      "65 phone\n",
      "67 phone\n",
      "69 phone\n",
      "71 phone\n",
      "73 phone\n",
      "75 phone\n",
      "77 phone\n",
      "79 phone\n",
      "81 phone\n",
      "83 phone\n",
      "85 phone\n",
      "87 phone\n",
      "89 phone\n",
      "91 phone\n",
      "93 phone\n",
      "95 phone\n",
      "97 phone\n",
      "99 phone\n"
     ]
    }
   ],
   "source": [
    "for a in range(1,101,2):\n",
    "    print(a,\"phone\")"
   ]
  },
  {
   "cell_type": "code",
   "execution_count": 15,
   "id": "0198d274",
   "metadata": {},
   "outputs": [
    {
     "name": "stdout",
     "output_type": "stream",
     "text": [
      "enter your number : 16\n",
      "16  X  1 = 16\n",
      "16  X  2 = 32\n",
      "16  X  3 = 48\n",
      "16  X  4 = 64\n",
      "16  X  5 = 80\n",
      "16  X  6 = 96\n",
      "16  X  7 = 112\n",
      "16  X  8 = 128\n",
      "16  X  9 = 144\n",
      "16  X  10 = 160\n"
     ]
    }
   ],
   "source": [
    " a=int(input(\"enter your number : \"))\n",
    "for i in range(1,11):\n",
    "    print(a,\" X \",i, \"=\",i*a )"
   ]
  },
  {
   "cell_type": "code",
   "execution_count": 21,
   "id": "9b46ebda",
   "metadata": {},
   "outputs": [
    {
     "name": "stdout",
     "output_type": "stream",
     "text": [
      "enter your number :5\n",
      "5  x  5 = 25\n",
      "5  x  6 = 30\n",
      "5  x  7 = 35\n",
      "5  x  8 = 40\n",
      "5  x  9 = 45\n"
     ]
    }
   ],
   "source": [
    "f=int(input(\"enter your number :\"))\n",
    "for i in range (5,10):\n",
    "    print(f,\" x \",i,  \"=\",i*f)"
   ]
  },
  {
   "cell_type": "code",
   "execution_count": 23,
   "id": "d55f2763",
   "metadata": {},
   "outputs": [
    {
     "name": "stdout",
     "output_type": "stream",
     "text": [
      "h\n",
      "e\n",
      "l\n",
      "l\n",
      "o\n"
     ]
    }
   ],
   "source": [
    "v=\"hello\"\n",
    "for a in v:\n",
    "    print(a)"
   ]
  },
  {
   "cell_type": "code",
   "execution_count": 26,
   "id": "39892fb1",
   "metadata": {},
   "outputs": [
    {
     "name": "stdout",
     "output_type": "stream",
     "text": [
      "heyy\n",
      "15\n",
      "16.28\n",
      "163\n",
      "clock\n"
     ]
    }
   ],
   "source": [
    "list1=[\"heyy\",15,16.28,163,\"clock\"]\n",
    "for a in list1:\n",
    "    print(a)"
   ]
  },
  {
   "cell_type": "code",
   "execution_count": 29,
   "id": "da4353b8",
   "metadata": {},
   "outputs": [
    {
     "name": "stdout",
     "output_type": "stream",
     "text": [
      "hola comosta  679\n"
     ]
    }
   ],
   "source": [
    "a=input(\"hola comosta  \")"
   ]
  },
  {
   "cell_type": "code",
   "execution_count": 30,
   "id": "3de0b9d9",
   "metadata": {},
   "outputs": [
    {
     "data": {
      "text/plain": [
       "'679'"
      ]
     },
     "execution_count": 30,
     "metadata": {},
     "output_type": "execute_result"
    }
   ],
   "source": [
    "a"
   ]
  },
  {
   "cell_type": "code",
   "execution_count": 1,
   "id": "50f6856c",
   "metadata": {},
   "outputs": [
    {
     "name": "stdout",
     "output_type": "stream",
     "text": [
      "Is zahra is cute yes MashAllah\n"
     ]
    }
   ],
   "source": [
    "f=input(\"Is zahra is cute \")"
   ]
  },
  {
   "cell_type": "markdown",
   "id": "9033007f",
   "metadata": {},
   "source": [
    "# range(4,44,3)"
   ]
  },
  {
   "cell_type": "code",
   "execution_count": null,
   "id": "d1d900d9",
   "metadata": {},
   "outputs": [],
   "source": []
  }
 ],
 "metadata": {
  "kernelspec": {
   "display_name": "Python 3 (ipykernel)",
   "language": "python",
   "name": "python3"
  },
  "language_info": {
   "codemirror_mode": {
    "name": "ipython",
    "version": 3
   },
   "file_extension": ".py",
   "mimetype": "text/x-python",
   "name": "python",
   "nbconvert_exporter": "python",
   "pygments_lexer": "ipython3",
   "version": "3.11.5"
  }
 },
 "nbformat": 4,
 "nbformat_minor": 5
}
