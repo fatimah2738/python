{
 "cells": [
  {
   "cell_type": "markdown",
   "id": "8e9890b9",
   "metadata": {},
   "source": [
    "# Conditional Statements"
   ]
  },
  {
   "cell_type": "code",
   "execution_count": 2,
   "id": "7b1fe5bd",
   "metadata": {},
   "outputs": [
    {
     "name": "stdout",
     "output_type": "stream",
     "text": [
      "enter your username14\n",
      "yes\n"
     ]
    }
   ],
   "source": [
    "v23=int(input(\"enter your username\"))\n",
    "if v23  <= 14:\n",
    "    print(\"yes\")"
   ]
  },
  {
   "cell_type": "code",
   "execution_count": 5,
   "id": "8aa9a678",
   "metadata": {},
   "outputs": [
    {
     "name": "stdout",
     "output_type": "stream",
     "text": [
      "enter your username68\n",
      "no\n"
     ]
    }
   ],
   "source": [
    "v23=int(input(\"enter your username\"))\n",
    "if v23  <= 14:\n",
    "    print(\"yes\")\n",
    "elif v23 >=15:\n",
    "    print(\"no\")\n",
    "else:\n",
    "    print(\"maybe\")"
   ]
  },
  {
   "cell_type": "code",
   "execution_count": 9,
   "id": "af676939",
   "metadata": {
    "scrolled": true
   },
   "outputs": [
    {
     "name": "stdout",
     "output_type": "stream",
     "text": [
      "if you want to go to room then write yes otherwise write no: yes\n",
      "go get water then you can go\n"
     ]
    }
   ],
   "source": [
    "a = input(\"if you want to go to room then write yes otherwise write no: \")\n",
    "if a==\"yes\" :\n",
    "    print(\"go get water then you can go\")\n",
    "else:\n",
    "    print(\"no\")\n",
    "        "
   ]
  },
  {
   "cell_type": "code",
   "execution_count": 10,
   "id": "1df6b09f",
   "metadata": {},
   "outputs": [
    {
     "name": "stdout",
     "output_type": "stream",
     "text": [
      "if you want to go to room then write yes otherwise write nono\n",
      "then go outside\n"
     ]
    }
   ],
   "source": [
    "a = input(\"if you want to go to room then write yes otherwise write no\")\n",
    "if a==\"yes\" :\n",
    "    print(\"go get water\")\n",
    "else:\n",
    "    print(\"then go outside\")\n",
    "        "
   ]
  },
  {
   "cell_type": "code",
   "execution_count": null,
   "id": "ae70405b",
   "metadata": {},
   "outputs": [],
   "source": []
  }
 ],
 "metadata": {
  "kernelspec": {
   "display_name": "Python 3 (ipykernel)",
   "language": "python",
   "name": "python3"
  },
  "language_info": {
   "codemirror_mode": {
    "name": "ipython",
    "version": 3
   },
   "file_extension": ".py",
   "mimetype": "text/x-python",
   "name": "python",
   "nbconvert_exporter": "python",
   "pygments_lexer": "ipython3",
   "version": "3.11.5"
  }
 },
 "nbformat": 4,
 "nbformat_minor": 5
}
