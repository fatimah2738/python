{
 "cells": [
  {
   "cell_type": "markdown",
   "id": "ba05ab88",
   "metadata": {},
   "source": [
    "# even odd in python"
   ]
  },
  {
   "cell_type": "code",
   "execution_count": 1,
   "id": "6249edf6",
   "metadata": {},
   "outputs": [],
   "source": [
    "numbers=[12,34,51,42,49,23,79]"
   ]
  },
  {
   "cell_type": "code",
   "execution_count": 2,
   "id": "fac7cec9",
   "metadata": {},
   "outputs": [
    {
     "data": {
      "text/plain": [
       "[12, 34, 42]"
      ]
     },
     "execution_count": 2,
     "metadata": {},
     "output_type": "execute_result"
    }
   ],
   "source": [
    "[n for n in numbers if n % 2 ==0]"
   ]
  },
  {
   "cell_type": "code",
   "execution_count": 3,
   "id": "235df66b",
   "metadata": {},
   "outputs": [
    {
     "data": {
      "text/plain": [
       "[51, 49, 23, 79]"
      ]
     },
     "execution_count": 3,
     "metadata": {},
     "output_type": "execute_result"
    }
   ],
   "source": [
    "[n for n in numbers if n % 2 !=0]"
   ]
  },
  {
   "cell_type": "code",
   "execution_count": 15,
   "id": "a13cc503",
   "metadata": {},
   "outputs": [
    {
     "name": "stdout",
     "output_type": "stream",
     "text": [
      "even numbers:  even\n",
      "odd numbers:  odd\n"
     ]
    }
   ],
   "source": [
    "print(\"even numbers: \", \"even\" )\n",
    "print(\"odd numbers: \", \"odd\")"
   ]
  },
  {
   "cell_type": "code",
   "execution_count": 16,
   "id": "e37191e3",
   "metadata": {},
   "outputs": [],
   "source": [
    "numbers=[1,2,3,4,5,6,23,7,8,9,72]"
   ]
  },
  {
   "cell_type": "code",
   "execution_count": null,
   "id": "c8028d1d",
   "metadata": {},
   "outputs": [],
   "source": [
    "odd=[n f]"
   ]
  }
 ],
 "metadata": {
  "kernelspec": {
   "display_name": "Python 3 (ipykernel)",
   "language": "python",
   "name": "python3"
  },
  "language_info": {
   "codemirror_mode": {
    "name": "ipython",
    "version": 3
   },
   "file_extension": ".py",
   "mimetype": "text/x-python",
   "name": "python",
   "nbconvert_exporter": "python",
   "pygments_lexer": "ipython3",
   "version": "3.11.5"
  }
 },
 "nbformat": 4,
 "nbformat_minor": 5
}
