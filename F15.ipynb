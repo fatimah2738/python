{
 "cells": [
  {
   "cell_type": "markdown",
   "id": "7441d143",
   "metadata": {},
   "source": [
    "# Tuple"
   ]
  },
  {
   "cell_type": "markdown",
   "id": "fd45036e",
   "metadata": {},
   "source": [
    "# In Python, a tuple is a collection data type that is similar to a list. However, tuples are immutable, meaning that once they are created, their elements cannot be modified or changed. Tuples are defined using parentheses ()."
   ]
  },
  {
   "cell_type": "code",
   "execution_count": 3,
   "id": "6bbaed8b",
   "metadata": {},
   "outputs": [
    {
     "data": {
      "text/plain": [
       "tuple"
      ]
     },
     "execution_count": 3,
     "metadata": {},
     "output_type": "execute_result"
    }
   ],
   "source": [
    "tuple1=()\n",
    "type(tuple1)"
   ]
  },
  {
   "cell_type": "code",
   "execution_count": 5,
   "id": "83b760a0",
   "metadata": {},
   "outputs": [
    {
     "name": "stdout",
     "output_type": "stream",
     "text": [
      "('minnie mouse', 'hola', 16.28, 59)\n"
     ]
    }
   ],
   "source": [
    "tuple2=(\"minnie mouse\",\"hola\",16.28,59)\n",
    "print(tuple2)"
   ]
  },
  {
   "cell_type": "code",
   "execution_count": 6,
   "id": "06154b1b",
   "metadata": {},
   "outputs": [
    {
     "data": {
      "text/plain": [
       "('minnie mouse', 'hola', 16.28, 59)"
      ]
     },
     "execution_count": 6,
     "metadata": {},
     "output_type": "execute_result"
    }
   ],
   "source": [
    "tuple2"
   ]
  },
  {
   "cell_type": "code",
   "execution_count": 23,
   "id": "dc29780e",
   "metadata": {},
   "outputs": [
    {
     "data": {
      "text/plain": [
       "16.28"
      ]
     },
     "execution_count": 23,
     "metadata": {},
     "output_type": "execute_result"
    }
   ],
   "source": [
    "tuple2[2]"
   ]
  },
  {
   "cell_type": "code",
   "execution_count": 24,
   "id": "2e312c2c",
   "metadata": {},
   "outputs": [],
   "source": [
    "tuple3=tuple2[0:1]"
   ]
  },
  {
   "cell_type": "code",
   "execution_count": 25,
   "id": "d58f0f44",
   "metadata": {},
   "outputs": [
    {
     "name": "stdout",
     "output_type": "stream",
     "text": [
      "('minnie mouse',)\n"
     ]
    }
   ],
   "source": [
    "print(tuple3)"
   ]
  },
  {
   "cell_type": "code",
   "execution_count": 26,
   "id": "1bb04c9a",
   "metadata": {},
   "outputs": [
    {
     "data": {
      "text/plain": [
       "('minnie mouse', 'hola', 16.28, 59)"
      ]
     },
     "execution_count": 26,
     "metadata": {},
     "output_type": "execute_result"
    }
   ],
   "source": [
    "tuple2"
   ]
  },
  {
   "cell_type": "code",
   "execution_count": 27,
   "id": "b568069a",
   "metadata": {},
   "outputs": [],
   "source": [
    "a,b,c,d=tuple2"
   ]
  },
  {
   "cell_type": "code",
   "execution_count": 28,
   "id": "6951560d",
   "metadata": {},
   "outputs": [
    {
     "data": {
      "text/plain": [
       "'hola'"
      ]
     },
     "execution_count": 28,
     "metadata": {},
     "output_type": "execute_result"
    }
   ],
   "source": [
    "b"
   ]
  },
  {
   "cell_type": "code",
   "execution_count": 29,
   "id": "cec7e02d",
   "metadata": {},
   "outputs": [
    {
     "data": {
      "text/plain": [
       "59"
      ]
     },
     "execution_count": 29,
     "metadata": {},
     "output_type": "execute_result"
    }
   ],
   "source": [
    "d"
   ]
  },
  {
   "cell_type": "code",
   "execution_count": 30,
   "id": "b7712af7",
   "metadata": {},
   "outputs": [
    {
     "data": {
      "text/plain": [
       "'minnie mouse'"
      ]
     },
     "execution_count": 30,
     "metadata": {},
     "output_type": "execute_result"
    }
   ],
   "source": [
    "a"
   ]
  },
  {
   "cell_type": "code",
   "execution_count": 31,
   "id": "723d880d",
   "metadata": {},
   "outputs": [
    {
     "data": {
      "text/plain": [
       "16.28"
      ]
     },
     "execution_count": 31,
     "metadata": {},
     "output_type": "execute_result"
    }
   ],
   "source": [
    "c"
   ]
  },
  {
   "cell_type": "code",
   "execution_count": 32,
   "id": "a17fad1d",
   "metadata": {},
   "outputs": [
    {
     "data": {
      "text/plain": [
       "('minnie mouse', 'hola', 16.28, 59)"
      ]
     },
     "execution_count": 32,
     "metadata": {},
     "output_type": "execute_result"
    }
   ],
   "source": [
    "tuple2"
   ]
  },
  {
   "cell_type": "code",
   "execution_count": 33,
   "id": "24f2b9de",
   "metadata": {},
   "outputs": [
    {
     "data": {
      "text/plain": [
       "4"
      ]
     },
     "execution_count": 33,
     "metadata": {},
     "output_type": "execute_result"
    }
   ],
   "source": [
    "len(tuple2)"
   ]
  },
  {
   "cell_type": "code",
   "execution_count": 34,
   "id": "96c3139f",
   "metadata": {},
   "outputs": [
    {
     "data": {
      "text/plain": [
       "False"
      ]
     },
     "execution_count": 34,
     "metadata": {},
     "output_type": "execute_result"
    }
   ],
   "source": [
    "\"mouse\" in tuple2"
   ]
  },
  {
   "cell_type": "code",
   "execution_count": 35,
   "id": "b742b515",
   "metadata": {},
   "outputs": [
    {
     "data": {
      "text/plain": [
       "True"
      ]
     },
     "execution_count": 35,
     "metadata": {},
     "output_type": "execute_result"
    }
   ],
   "source": [
    "\"minnie mouse\" in tuple2"
   ]
  },
  {
   "cell_type": "code",
   "execution_count": 36,
   "id": "4bdb036a",
   "metadata": {},
   "outputs": [
    {
     "data": {
      "text/plain": [
       "True"
      ]
     },
     "execution_count": 36,
     "metadata": {},
     "output_type": "execute_result"
    }
   ],
   "source": [
    "\"hola\" in tuple2"
   ]
  },
  {
   "cell_type": "code",
   "execution_count": 37,
   "id": "2a073f9d",
   "metadata": {},
   "outputs": [
    {
     "name": "stdout",
     "output_type": "stream",
     "text": [
      "minnie mouse\n",
      "hola\n",
      "16.28\n",
      "59\n"
     ]
    }
   ],
   "source": [
    "for a5 in tuple2:\n",
    "    print(a5)"
   ]
  },
  {
   "cell_type": "code",
   "execution_count": 40,
   "id": "970ea38b",
   "metadata": {},
   "outputs": [
    {
     "name": "stdout",
     "output_type": "stream",
     "text": [
      "('coca cola', 16, 28)\n"
     ]
    }
   ],
   "source": [
    "tuple4=(\"anaconda\",(\"coca cola\",16,28),56,78)\n",
    "print(tuple4[1])"
   ]
  },
  {
   "cell_type": "code",
   "execution_count": 41,
   "id": "75d84a27",
   "metadata": {},
   "outputs": [
    {
     "name": "stdout",
     "output_type": "stream",
     "text": [
      "anaconda\n",
      "('coca cola', 16, 28)\n",
      "56\n",
      "78\n"
     ]
    }
   ],
   "source": [
    "for f4 in tuple4:\n",
    "    print(f4)"
   ]
  },
  {
   "cell_type": "markdown",
   "id": "287ccf44",
   "metadata": {},
   "source": [
    "# Dictionary in python"
   ]
  },
  {
   "cell_type": "markdown",
   "id": "359946d9",
   "metadata": {},
   "source": [
    "# In Python, a dictionary is a built-in data type that allows you to store and retrieve key-value pairs. Dictionaries are defined using curly braces {}, and each key-value pair is separated by a colon :"
   ]
  },
  {
   "cell_type": "code",
   "execution_count": 42,
   "id": "1ae490fd",
   "metadata": {},
   "outputs": [
    {
     "data": {
      "text/plain": [
       "'zainab'"
      ]
     },
     "execution_count": 42,
     "metadata": {},
     "output_type": "execute_result"
    }
   ],
   "source": [
    "dict1={\"name\":\"zainab\"}\n",
    "dict1[\"name\"]"
   ]
  },
  {
   "cell_type": "code",
   "execution_count": 43,
   "id": "cd864eb9",
   "metadata": {},
   "outputs": [
    {
     "data": {
      "text/plain": [
       "'Clever'"
      ]
     },
     "execution_count": 43,
     "metadata": {},
     "output_type": "execute_result"
    }
   ],
   "source": [
    "synonym = {\"smart\":\"Clever\",\"big\": \"Large\"}\n",
    "synonym[\"smart\"]"
   ]
  },
  {
   "cell_type": "code",
   "execution_count": 44,
   "id": "7755cea6",
   "metadata": {},
   "outputs": [],
   "source": [
    "dict2 = {\"apple\": \"سیب\"}"
   ]
  },
  {
   "cell_type": "code",
   "execution_count": 45,
   "id": "c790d2e2",
   "metadata": {},
   "outputs": [
    {
     "data": {
      "text/plain": [
       "'سیب'"
      ]
     },
     "execution_count": 45,
     "metadata": {},
     "output_type": "execute_result"
    }
   ],
   "source": [
    "dict2[\"apple\"]"
   ]
  },
  {
   "cell_type": "code",
   "execution_count": 46,
   "id": "14884d5d",
   "metadata": {},
   "outputs": [],
   "source": [
    "dict3={\"small\":\"midgit\",\"iphone\":\"samsung\",\"std1\": \"Ayesha\",\"std2\":\"Fatimah\",\"std3\":\"Aaminah\"}"
   ]
  },
  {
   "cell_type": "code",
   "execution_count": 49,
   "id": "0d98711a",
   "metadata": {},
   "outputs": [
    {
     "data": {
      "text/plain": [
       "'Fatimah'"
      ]
     },
     "execution_count": 49,
     "metadata": {},
     "output_type": "execute_result"
    }
   ],
   "source": [
    "dict3[\"std2\"]"
   ]
  },
  {
   "cell_type": "code",
   "execution_count": 50,
   "id": "b288f7de",
   "metadata": {},
   "outputs": [
    {
     "name": "stdout",
     "output_type": "stream",
     "text": [
      "small\n",
      "iphone\n",
      "std1\n",
      "std2\n",
      "std3\n"
     ]
    }
   ],
   "source": [
    "for key in dict3:\n",
    "    print(key)    "
   ]
  },
  {
   "cell_type": "code",
   "execution_count": 52,
   "id": "6e8310ff",
   "metadata": {},
   "outputs": [
    {
     "name": "stdout",
     "output_type": "stream",
     "text": [
      "midgit\n",
      "samsung\n",
      "Ayesha\n",
      "Fatimah\n",
      "Aaminah\n"
     ]
    }
   ],
   "source": [
    "for value in dict3.values():\n",
    "    print(value)"
   ]
  },
  {
   "cell_type": "code",
   "execution_count": null,
   "id": "f1b9a3a9",
   "metadata": {},
   "outputs": [],
   "source": []
  }
 ],
 "metadata": {
  "kernelspec": {
   "display_name": "Python 3 (ipykernel)",
   "language": "python",
   "name": "python3"
  },
  "language_info": {
   "codemirror_mode": {
    "name": "ipython",
    "version": 3
   },
   "file_extension": ".py",
   "mimetype": "text/x-python",
   "name": "python",
   "nbconvert_exporter": "python",
   "pygments_lexer": "ipython3",
   "version": "3.11.5"
  }
 },
 "nbformat": 4,
 "nbformat_minor": 5
}
