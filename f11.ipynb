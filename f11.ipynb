{
 "cells": [
  {
   "cell_type": "markdown",
   "id": "1f4c8d0d",
   "metadata": {},
   "source": [
    "# List practice"
   ]
  },
  {
   "cell_type": "code",
   "execution_count": 2,
   "id": "dc04d10b",
   "metadata": {},
   "outputs": [],
   "source": [
    "list1=[3,6,9,\"i hate school\",12.3]"
   ]
  },
  {
   "cell_type": "code",
   "execution_count": 3,
   "id": "b37ec95e",
   "metadata": {},
   "outputs": [],
   "source": [
    "list1.append(69)"
   ]
  },
  {
   "cell_type": "code",
   "execution_count": 4,
   "id": "c1d3092b",
   "metadata": {},
   "outputs": [
    {
     "data": {
      "text/plain": [
       "[3, 6, 9, 'i hate school', 12.3, 69]"
      ]
     },
     "execution_count": 4,
     "metadata": {},
     "output_type": "execute_result"
    }
   ],
   "source": [
    "list1"
   ]
  },
  {
   "cell_type": "code",
   "execution_count": 5,
   "id": "46e23945",
   "metadata": {},
   "outputs": [],
   "source": [
    "list1.remove(9)"
   ]
  },
  {
   "cell_type": "code",
   "execution_count": 6,
   "id": "c9307f92",
   "metadata": {},
   "outputs": [
    {
     "data": {
      "text/plain": [
       "[3, 6, 'i hate school', 12.3, 69]"
      ]
     },
     "execution_count": 6,
     "metadata": {},
     "output_type": "execute_result"
    }
   ],
   "source": [
    "list1"
   ]
  },
  {
   "cell_type": "code",
   "execution_count": 7,
   "id": "f934b9cf",
   "metadata": {},
   "outputs": [
    {
     "data": {
      "text/plain": [
       "'i hate school'"
      ]
     },
     "execution_count": 7,
     "metadata": {},
     "output_type": "execute_result"
    }
   ],
   "source": [
    "list1.pop(2)"
   ]
  },
  {
   "cell_type": "code",
   "execution_count": 8,
   "id": "be661245",
   "metadata": {},
   "outputs": [
    {
     "data": {
      "text/plain": [
       "[3, 6, 12.3, 69]"
      ]
     },
     "execution_count": 8,
     "metadata": {},
     "output_type": "execute_result"
    }
   ],
   "source": [
    "list1"
   ]
  },
  {
   "cell_type": "markdown",
   "id": "4011f63c",
   "metadata": {},
   "source": [
    "# How to check if an element is in a list?"
   ]
  },
  {
   "cell_type": "code",
   "execution_count": 9,
   "id": "3e693cc1",
   "metadata": {},
   "outputs": [
    {
     "data": {
      "text/plain": [
       "True"
      ]
     },
     "execution_count": 9,
     "metadata": {},
     "output_type": "execute_result"
    }
   ],
   "source": [
    "6 in list1"
   ]
  },
  {
   "cell_type": "code",
   "execution_count": 10,
   "id": "a9a90959",
   "metadata": {},
   "outputs": [
    {
     "data": {
      "text/plain": [
       "False"
      ]
     },
     "execution_count": 10,
     "metadata": {},
     "output_type": "execute_result"
    }
   ],
   "source": [
    "10 in list1"
   ]
  },
  {
   "cell_type": "code",
   "execution_count": 11,
   "id": "abe77197",
   "metadata": {},
   "outputs": [
    {
     "data": {
      "text/plain": [
       "False"
      ]
     },
     "execution_count": 11,
     "metadata": {},
     "output_type": "execute_result"
    }
   ],
   "source": [
    "\"Fatimah\" in list1"
   ]
  },
  {
   "cell_type": "markdown",
   "id": "f69dcac8",
   "metadata": {},
   "source": [
    "# Can a list be nested (contain other lists)?"
   ]
  },
  {
   "cell_type": "code",
   "execution_count": 12,
   "id": "82101c6d",
   "metadata": {},
   "outputs": [],
   "source": [
    "list2=[[3,9],\"hi\",24.6,[3,\"apple\",\"banana\"]]"
   ]
  },
  {
   "cell_type": "code",
   "execution_count": 13,
   "id": "172cd9d0",
   "metadata": {},
   "outputs": [
    {
     "data": {
      "text/plain": [
       "[3, 'apple', 'banana']"
      ]
     },
     "execution_count": 13,
     "metadata": {},
     "output_type": "execute_result"
    }
   ],
   "source": [
    "list2[3]"
   ]
  },
  {
   "cell_type": "markdown",
   "id": "b4a7a799",
   "metadata": {},
   "source": [
    "# How to find the length of a list?"
   ]
  },
  {
   "cell_type": "code",
   "execution_count": 15,
   "id": "3accdcc9",
   "metadata": {},
   "outputs": [
    {
     "data": {
      "text/plain": [
       "4"
      ]
     },
     "execution_count": 15,
     "metadata": {},
     "output_type": "execute_result"
    }
   ],
   "source": [
    "len(list2)"
   ]
  },
  {
   "cell_type": "markdown",
   "id": "f48d6147",
   "metadata": {},
   "source": [
    "# How to slice elements from a list?"
   ]
  },
  {
   "cell_type": "markdown",
   "id": "3127bbef",
   "metadata": {},
   "source": [
    "# my_list[start:end:step]"
   ]
  },
  {
   "cell_type": "markdown",
   "id": "823397ac",
   "metadata": {},
   "source": [
    "print(list2)"
   ]
  },
  {
   "cell_type": "code",
   "execution_count": 20,
   "id": "4f43011d",
   "metadata": {},
   "outputs": [],
   "source": [
    "list3=list2[1:3]"
   ]
  },
  {
   "cell_type": "code",
   "execution_count": 21,
   "id": "83d69f23",
   "metadata": {},
   "outputs": [
    {
     "data": {
      "text/plain": [
       "['hi', 24.6]"
      ]
     },
     "execution_count": 21,
     "metadata": {},
     "output_type": "execute_result"
    }
   ],
   "source": [
    "list3"
   ]
  },
  {
   "cell_type": "code",
   "execution_count": 23,
   "id": "b9cbe41f",
   "metadata": {},
   "outputs": [],
   "source": [
    "list4=list2[3]"
   ]
  },
  {
   "cell_type": "markdown",
   "id": "f8cd27bb",
   "metadata": {},
   "source": [
    "#### "
   ]
  },
  {
   "cell_type": "code",
   "execution_count": 24,
   "id": "342f81b2",
   "metadata": {},
   "outputs": [
    {
     "data": {
      "text/plain": [
       "[3, 'apple', 'banana']"
      ]
     },
     "execution_count": 24,
     "metadata": {},
     "output_type": "execute_result"
    }
   ],
   "source": [
    "list4"
   ]
  },
  {
   "cell_type": "markdown",
   "id": "38d07d2d",
   "metadata": {},
   "source": [
    "# Can elements in a list be changed or reassigned?"
   ]
  },
  {
   "cell_type": "code",
   "execution_count": 25,
   "id": "9862e339",
   "metadata": {},
   "outputs": [],
   "source": [
    "list5 = [6,7,9,8,0,1]"
   ]
  },
  {
   "cell_type": "code",
   "execution_count": 26,
   "id": "817d9ded",
   "metadata": {},
   "outputs": [],
   "source": [
    "list5[1]=50"
   ]
  },
  {
   "cell_type": "code",
   "execution_count": 27,
   "id": "576974f5",
   "metadata": {},
   "outputs": [
    {
     "data": {
      "text/plain": [
       "[6, 50, 9, 8, 0, 1]"
      ]
     },
     "execution_count": 27,
     "metadata": {},
     "output_type": "execute_result"
    }
   ],
   "source": [
    "list5"
   ]
  },
  {
   "cell_type": "code",
   "execution_count": 28,
   "id": "9c78b727",
   "metadata": {},
   "outputs": [],
   "source": [
    "list5[4]=10"
   ]
  },
  {
   "cell_type": "code",
   "execution_count": 29,
   "id": "4b877e10",
   "metadata": {},
   "outputs": [
    {
     "data": {
      "text/plain": [
       "[6, 50, 9, 8, 10, 1]"
      ]
     },
     "execution_count": 29,
     "metadata": {},
     "output_type": "execute_result"
    }
   ],
   "source": [
    "list5"
   ]
  },
  {
   "cell_type": "code",
   "execution_count": 31,
   "id": "9b2343ba",
   "metadata": {},
   "outputs": [],
   "source": [
    "list5[5]=\"end\""
   ]
  },
  {
   "cell_type": "code",
   "execution_count": 32,
   "id": "7ec4c644",
   "metadata": {},
   "outputs": [
    {
     "data": {
      "text/plain": [
       "[6, 50, 9, 8, 10, 'end']"
      ]
     },
     "execution_count": 32,
     "metadata": {},
     "output_type": "execute_result"
    }
   ],
   "source": [
    "list5"
   ]
  },
  {
   "cell_type": "code",
   "execution_count": 33,
   "id": "c27d548b",
   "metadata": {},
   "outputs": [],
   "source": [
    "list6=[3,6,7]\n",
    "list7=[2,4,6]"
   ]
  },
  {
   "cell_type": "markdown",
   "id": "c97ee31b",
   "metadata": {},
   "source": [
    "# How to concatenate or combine lists?"
   ]
  },
  {
   "cell_type": "code",
   "execution_count": 34,
   "id": "d68527d4",
   "metadata": {},
   "outputs": [
    {
     "data": {
      "text/plain": [
       "[3, 6, 7, 2, 4, 6]"
      ]
     },
     "execution_count": 34,
     "metadata": {},
     "output_type": "execute_result"
    }
   ],
   "source": [
    "list8=list6+list7\n",
    "list8"
   ]
  },
  {
   "cell_type": "code",
   "execution_count": 35,
   "id": "ffc9a4c0",
   "metadata": {},
   "outputs": [],
   "source": [
    "list6.extend(list7)"
   ]
  },
  {
   "cell_type": "code",
   "execution_count": 36,
   "id": "a5e7497a",
   "metadata": {},
   "outputs": [
    {
     "data": {
      "text/plain": [
       "[3, 6, 7, 2, 4, 6]"
      ]
     },
     "execution_count": 36,
     "metadata": {},
     "output_type": "execute_result"
    }
   ],
   "source": [
    "list6"
   ]
  },
  {
   "cell_type": "markdown",
   "id": "66026c3b",
   "metadata": {},
   "source": [
    "# What is the difference between append() and extend() methods"
   ]
  },
  {
   "cell_type": "code",
   "execution_count": 37,
   "id": "4c701c52",
   "metadata": {},
   "outputs": [
    {
     "data": {
      "text/plain": [
       "[2, 4, 6]"
      ]
     },
     "execution_count": 37,
     "metadata": {},
     "output_type": "execute_result"
    }
   ],
   "source": [
    "list7"
   ]
  },
  {
   "cell_type": "code",
   "execution_count": 38,
   "id": "dd3dbd9f",
   "metadata": {},
   "outputs": [],
   "source": [
    "list7.append(list6)"
   ]
  },
  {
   "cell_type": "code",
   "execution_count": 39,
   "id": "9ee2b0cc",
   "metadata": {},
   "outputs": [
    {
     "data": {
      "text/plain": [
       "[2, 4, 6, [3, 6, 7, 2, 4, 6]]"
      ]
     },
     "execution_count": 39,
     "metadata": {},
     "output_type": "execute_result"
    }
   ],
   "source": [
    "list7"
   ]
  },
  {
   "cell_type": "code",
   "execution_count": 40,
   "id": "e7e61300",
   "metadata": {},
   "outputs": [
    {
     "data": {
      "text/plain": [
       "[3, 6, 7, 2, 4, 6]"
      ]
     },
     "execution_count": 40,
     "metadata": {},
     "output_type": "execute_result"
    }
   ],
   "source": [
    "list6"
   ]
  },
  {
   "cell_type": "markdown",
   "id": "ab57d491",
   "metadata": {},
   "source": [
    "# How to reverse a list?"
   ]
  },
  {
   "cell_type": "markdown",
   "id": "b5a206c8",
   "metadata": {},
   "source": [
    "list6.reverse()"
   ]
  },
  {
   "cell_type": "code",
   "execution_count": 41,
   "id": "a26c6166",
   "metadata": {},
   "outputs": [],
   "source": [
    "list6.reverse()"
   ]
  },
  {
   "cell_type": "code",
   "execution_count": 42,
   "id": "f32e34f3",
   "metadata": {},
   "outputs": [
    {
     "data": {
      "text/plain": [
       "[6, 4, 2, 7, 6, 3]"
      ]
     },
     "execution_count": 42,
     "metadata": {},
     "output_type": "execute_result"
    }
   ],
   "source": [
    "list6"
   ]
  },
  {
   "cell_type": "markdown",
   "id": "116bf5e6",
   "metadata": {},
   "source": [
    "# How to sort a list?"
   ]
  },
  {
   "cell_type": "code",
   "execution_count": 43,
   "id": "f11c96bb",
   "metadata": {},
   "outputs": [],
   "source": [
    "list6.sort()"
   ]
  },
  {
   "cell_type": "code",
   "execution_count": 44,
   "id": "3506460c",
   "metadata": {},
   "outputs": [
    {
     "data": {
      "text/plain": [
       "[2, 3, 4, 6, 6, 7]"
      ]
     },
     "execution_count": 44,
     "metadata": {},
     "output_type": "execute_result"
    }
   ],
   "source": [
    "list6"
   ]
  },
  {
   "cell_type": "markdown",
   "id": "1ac60f71",
   "metadata": {},
   "source": [
    "# Can a list have duplicate elements?"
   ]
  },
  {
   "cell_type": "code",
   "execution_count": 46,
   "id": "15916397",
   "metadata": {},
   "outputs": [],
   "source": [
    "list8=[8,8,6,6,9,9,0,1,7,9]"
   ]
  },
  {
   "cell_type": "code",
   "execution_count": 47,
   "id": "bd11ee85",
   "metadata": {},
   "outputs": [],
   "source": [
    "list8.sort()"
   ]
  },
  {
   "cell_type": "code",
   "execution_count": 48,
   "id": "20a92467",
   "metadata": {},
   "outputs": [
    {
     "data": {
      "text/plain": [
       "[0, 1, 6, 6, 7, 8, 8, 9, 9, 9]"
      ]
     },
     "execution_count": 48,
     "metadata": {},
     "output_type": "execute_result"
    }
   ],
   "source": [
    "list8\n"
   ]
  },
  {
   "cell_type": "code",
   "execution_count": 50,
   "id": "4aa3f6b8",
   "metadata": {},
   "outputs": [],
   "source": [
    "list8.reverse()"
   ]
  },
  {
   "cell_type": "code",
   "execution_count": 51,
   "id": "c017f1f3",
   "metadata": {},
   "outputs": [
    {
     "data": {
      "text/plain": [
       "[9, 9, 9, 8, 8, 7, 6, 6, 1, 0]"
      ]
     },
     "execution_count": 51,
     "metadata": {},
     "output_type": "execute_result"
    }
   ],
   "source": [
    "list8"
   ]
  },
  {
   "cell_type": "code",
   "execution_count": 55,
   "id": "76da7364",
   "metadata": {},
   "outputs": [
    {
     "name": "stdout",
     "output_type": "stream",
     "text": [
      "hello\n",
      "hello\n",
      "hello\n",
      "hello\n",
      "hello\n",
      "hello\n",
      "hello\n",
      "hello\n",
      "hello\n",
      "hello\n"
     ]
    }
   ],
   "source": [
    "my_list = [1, 2, 3, 4, 5]\n",
    "for num1 in list8:\n",
    "    print(\"hello\")\n"
   ]
  },
  {
   "cell_type": "code",
   "execution_count": null,
   "id": "f56c308e",
   "metadata": {},
   "outputs": [],
   "source": []
  }
 ],
 "metadata": {
  "kernelspec": {
   "display_name": "Python 3 (ipykernel)",
   "language": "python",
   "name": "python3"
  },
  "language_info": {
   "codemirror_mode": {
    "name": "ipython",
    "version": 3
   },
   "file_extension": ".py",
   "mimetype": "text/x-python",
   "name": "python",
   "nbconvert_exporter": "python",
   "pygments_lexer": "ipython3",
   "version": "3.11.5"
  }
 },
 "nbformat": 4,
 "nbformat_minor": 5
}
