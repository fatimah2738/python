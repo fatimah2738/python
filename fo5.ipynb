{
 "cells": [
  {
   "cell_type": "markdown",
   "id": "ac0d6a30",
   "metadata": {},
   "source": [
    "# Conditional Statements"
   ]
  },
  {
   "cell_type": "code",
   "execution_count": 1,
   "id": "50329766",
   "metadata": {},
   "outputs": [
    {
     "name": "stdout",
     "output_type": "stream",
     "text": [
      "v13 is equal to 32 \n"
     ]
    }
   ],
   "source": [
    "v13 = 32\n",
    "if v13 <32 : # v13 is less then 32 then do it\n",
    "    print (\"yes v13 is less than 32 \")\n",
    "elif v13  > 32 :\n",
    "    print (\"yes v13 is less than 32\")\n",
    "else:\n",
    "    print (\"v13 is equal to 32 \")\n",
    "    \n",
    "    \n"
   ]
  },
  {
   "cell_type": "code",
   "execution_count": 3,
   "id": "380a250a",
   "metadata": {},
   "outputs": [
    {
     "name": "stdout",
     "output_type": "stream",
     "text": [
      "yes v13 is more than 32\n"
     ]
    }
   ],
   "source": [
    "v13 = 33\n",
    "if v13 <32 : # v13 is less then 32 then do it\n",
    "    print (\"yes v13 is less than 32 \")\n",
    "elif v13  > 32 :\n",
    "    print (\"yes v13 is more than 32\")\n",
    "else:\n",
    "    print (\"v13 is equal to 32 \")\n",
    "    \n",
    "\n",
    "    \n"
   ]
  },
  {
   "cell_type": "code",
   "execution_count": 4,
   "id": "5131bb55",
   "metadata": {},
   "outputs": [
    {
     "name": "stdout",
     "output_type": "stream",
     "text": [
      "yes v13 is less than 32 \n"
     ]
    }
   ],
   "source": [
    "v13 = 31\n",
    "if v13 <32 : # v13 is less then 32 then do it\n",
    "    print (\"yes v13 is less than 32 \")\n",
    "elif v13  > 32 :\n",
    "    print (\"yes v13 is less than 32\")\n",
    "else:\n",
    "    print (\"v13 is equal to 32 \")\n",
    "    \n",
    "    \n"
   ]
  },
  {
   "cell_type": "code",
   "execution_count": 5,
   "id": "f5b0e1af",
   "metadata": {},
   "outputs": [
    {
     "name": "stdout",
     "output_type": "stream",
     "text": [
      "enter your value 44\n",
      "yes v13 is less than 32\n"
     ]
    }
   ],
   "source": [
    "v13 = int(input(\"enter your value \"))\n",
    "if v13 <32 : # v13 is less then 32 then do it\n",
    "    print (\"yes v13 is less than 32 \")\n",
    "elif v13  > 32 :\n",
    "    print (\"yes v13 is less than 32\")\n",
    "else:\n",
    "    print (\"v13 is equal to 32 \")\n",
    "    \n",
    "    \n"
   ]
  },
  {
   "cell_type": "code",
   "execution_count": 2,
   "id": "74406ee9",
   "metadata": {},
   "outputs": [
    {
     "name": "stdout",
     "output_type": "stream",
     "text": [
      "enter your value 32\n",
      "v13 is equal to 32 \n"
     ]
    }
   ],
   "source": [
    "v13 = int(input(\"enter your value \"))\n",
    "if v13 <32 : # v13 is less then 32 then do it\n",
    "    print (\"yes v13 is less than 32 \")\n",
    "elif v13  > 32 :\n",
    "    print (\"yes v13 is less than 32\")\n",
    "else:\n",
    "    print (\"v13 is equal to 32 \")\n",
    "    \n",
    "    \n"
   ]
  },
  {
   "cell_type": "code",
   "execution_count": 1,
   "id": "6bd761b5",
   "metadata": {},
   "outputs": [
    {
     "name": "stdout",
     "output_type": "stream",
     "text": [
      "enter your value v13 value   16\n",
      "enter your value v14 value 16\n"
     ]
    }
   ],
   "source": [
    "v13 = int(input(\"enter your value v13 value   \"))\n",
    "v14 = int(input(\"enter your value v14 value \"))\n",
    "if v13 < 30 and v14 > 30:\n",
    "    print(\"v13 is less then 30 and v14 is greater then 30\")\n"
   ]
  },
  {
   "cell_type": "code",
   "execution_count": 2,
   "id": "898e3d2e",
   "metadata": {},
   "outputs": [
    {
     "name": "stdout",
     "output_type": "stream",
     "text": [
      "enter your value v13 value   16\n",
      "enter your value v14 value 16\n",
      "v13 is less then 30 and v14 is greater then 30\n"
     ]
    }
   ],
   "source": [
    "v13 = int(input(\"enter your value v13 value   \"))\n",
    "v14 = int(input(\"enter your value v14 value \"))\n",
    "if v13 < 30 or v14 > 30:\n",
    "    print(\"v13 is less then 30 and v14 is greater then 30\")\n"
   ]
  },
  {
   "cell_type": "code",
   "execution_count": null,
   "id": "2c7c1519",
   "metadata": {},
   "outputs": [],
   "source": []
  }
 ],
 "metadata": {
  "kernelspec": {
   "display_name": "Python 3 (ipykernel)",
   "language": "python",
   "name": "python3"
  },
  "language_info": {
   "codemirror_mode": {
    "name": "ipython",
    "version": 3
   },
   "file_extension": ".py",
   "mimetype": "text/x-python",
   "name": "python",
   "nbconvert_exporter": "python",
   "pygments_lexer": "ipython3",
   "version": "3.11.5"
  }
 },
 "nbformat": 4,
 "nbformat_minor": 5
}
