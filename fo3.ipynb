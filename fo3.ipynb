{
 "cells": [
  {
   "cell_type": "markdown",
   "id": "903ad09b",
   "metadata": {},
   "source": [
    "# Conditional statements"
   ]
  },
  {
   "cell_type": "code",
   "execution_count": 2,
   "id": "ac35db93",
   "metadata": {},
   "outputs": [
    {
     "name": "stdout",
     "output_type": "stream",
     "text": [
      "yes\n"
     ]
    }
   ],
   "source": [
    "a = 28\n",
    "if a==28:\n",
    "    print(\"yes\")\n",
    "else:\n",
    "    print(\"a is not ==to 28\")\n",
    "    "
   ]
  },
  {
   "cell_type": "code",
   "execution_count": 3,
   "id": "741ff70a",
   "metadata": {},
   "outputs": [
    {
     "name": "stdout",
     "output_type": "stream",
     "text": [
      "a is not ==to 28\n"
     ]
    }
   ],
   "source": [
    "a = 23\n",
    "if a==28:\n",
    "    print(\"yes\")\n",
    "else:\n",
    "    print(\"a is not ==to 28\")"
   ]
  },
  {
   "cell_type": "code",
   "execution_count": 5,
   "id": "6450ea3a",
   "metadata": {},
   "outputs": [
    {
     "name": "stdout",
     "output_type": "stream",
     "text": [
      "enter your value15\n",
      "child\n"
     ]
    }
   ],
   "source": [
    "age =  int(input(\"enter your value\"))\n",
    "if age <18:\n",
    "    print(\"child\")\n",
    "else:\n",
    "    print(\"adult\")"
   ]
  },
  {
   "cell_type": "code",
   "execution_count": 6,
   "id": "f786db94",
   "metadata": {},
   "outputs": [
    {
     "name": "stdout",
     "output_type": "stream",
     "text": [
      "enter your value280\n",
      "adult\n"
     ]
    }
   ],
   "source": [
    "age =  int(input(\"enter your value\"))\n",
    "if age <18:\n",
    "    print(\"child\")\n",
    "else:\n",
    "    print(\"adult\")"
   ]
  },
  {
   "cell_type": "code",
   "execution_count": null,
   "id": "ed238240",
   "metadata": {},
   "outputs": [],
   "source": []
  }
 ],
 "metadata": {
  "kernelspec": {
   "display_name": "Python 3 (ipykernel)",
   "language": "python",
   "name": "python3"
  },
  "language_info": {
   "codemirror_mode": {
    "name": "ipython",
    "version": 3
   },
   "file_extension": ".py",
   "mimetype": "text/x-python",
   "name": "python",
   "nbconvert_exporter": "python",
   "pygments_lexer": "ipython3",
   "version": "3.11.5"
  }
 },
 "nbformat": 4,
 "nbformat_minor": 5
}
