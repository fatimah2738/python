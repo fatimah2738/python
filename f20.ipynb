{
 "cells": [
  {
   "cell_type": "markdown",
   "id": "b6ead3ef",
   "metadata": {},
   "source": [
    "# functions"
   ]
  },
  {
   "cell_type": "code",
   "execution_count": 6,
   "id": "2ffbd519",
   "metadata": {},
   "outputs": [],
   "source": [
    "def zahrah():\n",
    "    print(\"fatimah\")\n",
    "    print(\"happy bday zahrah\")\n",
    "    print(\" zahrah is naughty\")\n",
    "        "
   ]
  },
  {
   "cell_type": "code",
   "execution_count": 7,
   "id": "89c56e46",
   "metadata": {},
   "outputs": [
    {
     "name": "stdout",
     "output_type": "stream",
     "text": [
      "fatimah\n",
      "happy bday zahrah\n",
      " zahrah is naughty\n"
     ]
    }
   ],
   "source": [
    "zahrah()"
   ]
  },
  {
   "cell_type": "code",
   "execution_count": 8,
   "id": "4eaa9694",
   "metadata": {},
   "outputs": [],
   "source": [
    "def fatimah():\n",
    "    print(\"fatimah is the best\")\n",
    "    print(\"fatimah is cute\")"
   ]
  },
  {
   "cell_type": "code",
   "execution_count": 9,
   "id": "46d8805c",
   "metadata": {},
   "outputs": [
    {
     "name": "stdout",
     "output_type": "stream",
     "text": [
      "fatimah is the best\n",
      "fatimah is cute\n"
     ]
    }
   ],
   "source": [
    "fatimah()"
   ]
  },
  {
   "cell_type": "code",
   "execution_count": 12,
   "id": "28ab06a3",
   "metadata": {},
   "outputs": [
    {
     "name": "stdout",
     "output_type": "stream",
     "text": [
      "fatimah\n",
      "happy bday zahrah\n",
      " zahrah is naughty\n",
      "fatimah is the best\n",
      "fatimah is cute\n"
     ]
    },
    {
     "data": {
      "text/plain": [
       "(None, None)"
      ]
     },
     "execution_count": 12,
     "metadata": {},
     "output_type": "execute_result"
    }
   ],
   "source": [
    "zahrah(),fatimah()"
   ]
  },
  {
   "cell_type": "code",
   "execution_count": 13,
   "id": "618868f8",
   "metadata": {},
   "outputs": [],
   "source": [
    "def baby_zahrah(fatimah):\n",
    "    print(fatimah)"
   ]
  },
  {
   "cell_type": "code",
   "execution_count": 14,
   "id": "0558715f",
   "metadata": {},
   "outputs": [
    {
     "name": "stdout",
     "output_type": "stream",
     "text": [
      "2c,4e\n"
     ]
    }
   ],
   "source": [
    "baby_zahrah(\"2c,4e\")"
   ]
  },
  {
   "cell_type": "code",
   "execution_count": 15,
   "id": "07046087",
   "metadata": {},
   "outputs": [
    {
     "name": "stdout",
     "output_type": "stream",
     "text": [
      "Hello Baby\n"
     ]
    }
   ],
   "source": [
    "baby_zahrah(\"Hello Baby\")"
   ]
  },
  {
   "cell_type": "code",
   "execution_count": 16,
   "id": "f1913b4f",
   "metadata": {},
   "outputs": [],
   "source": [
    "def aaminah(a):\n",
    "    return a\n"
   ]
  },
  {
   "cell_type": "code",
   "execution_count": 20,
   "id": "21a38f8b",
   "metadata": {},
   "outputs": [
    {
     "data": {
      "text/plain": [
       "'a'"
      ]
     },
     "execution_count": 20,
     "metadata": {},
     "output_type": "execute_result"
    }
   ],
   "source": [
    "aaminah(\"a\")"
   ]
  },
  {
   "cell_type": "code",
   "execution_count": 21,
   "id": "4041b9b6",
   "metadata": {},
   "outputs": [],
   "source": [
    "def add(a,b):\n",
    "    return a+b"
   ]
  },
  {
   "cell_type": "code",
   "execution_count": 23,
   "id": "2c2a306d",
   "metadata": {},
   "outputs": [
    {
     "data": {
      "text/plain": [
       "14"
      ]
     },
     "execution_count": 23,
     "metadata": {},
     "output_type": "execute_result"
    }
   ],
   "source": [
    "add(5,9)"
   ]
  },
  {
   "cell_type": "code",
   "execution_count": 24,
   "id": "2e2cd873",
   "metadata": {},
   "outputs": [
    {
     "data": {
      "text/plain": [
       "34"
      ]
     },
     "execution_count": 24,
     "metadata": {},
     "output_type": "execute_result"
    }
   ],
   "source": [
    "add(15,19)"
   ]
  },
  {
   "cell_type": "code",
   "execution_count": 25,
   "id": "1793a91b",
   "metadata": {},
   "outputs": [
    {
     "data": {
      "text/plain": [
       "50"
      ]
     },
     "execution_count": 25,
     "metadata": {},
     "output_type": "execute_result"
    }
   ],
   "source": [
    "def minus(a,f):\n",
    "    return a-f\n",
    "minus(60,10)"
   ]
  },
  {
   "cell_type": "code",
   "execution_count": 26,
   "id": "5a29cc0f",
   "metadata": {},
   "outputs": [
    {
     "data": {
      "text/plain": [
       "288"
      ]
     },
     "execution_count": 26,
     "metadata": {},
     "output_type": "execute_result"
    }
   ],
   "source": [
    "def mul(a,f):\n",
    "    return a*f\n",
    "mul(16,18)"
   ]
  },
  {
   "cell_type": "code",
   "execution_count": 27,
   "id": "3629cfb9",
   "metadata": {},
   "outputs": [
    {
     "data": {
      "text/plain": [
       "7.0"
      ]
     },
     "execution_count": 27,
     "metadata": {},
     "output_type": "execute_result"
    }
   ],
   "source": [
    "def div (a,f):\n",
    "    return a/f\n",
    "div(35,5)"
   ]
  },
  {
   "cell_type": "code",
   "execution_count": null,
   "id": "17bdfda0",
   "metadata": {},
   "outputs": [],
   "source": []
  }
 ],
 "metadata": {
  "kernelspec": {
   "display_name": "Python 3 (ipykernel)",
   "language": "python",
   "name": "python3"
  },
  "language_info": {
   "codemirror_mode": {
    "name": "ipython",
    "version": 3
   },
   "file_extension": ".py",
   "mimetype": "text/x-python",
   "name": "python",
   "nbconvert_exporter": "python",
   "pygments_lexer": "ipython3",
   "version": "3.11.5"
  }
 },
 "nbformat": 4,
 "nbformat_minor": 5
}
