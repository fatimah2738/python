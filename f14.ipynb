{
 "cells": [
  {
   "cell_type": "markdown",
   "id": "cb154352",
   "metadata": {},
   "source": [
    "# for loop"
   ]
  },
  {
   "cell_type": "code",
   "execution_count": 1,
   "id": "f9bc2d89",
   "metadata": {},
   "outputs": [
    {
     "data": {
      "text/plain": [
       "range(2, 22, 3)"
      ]
     },
     "execution_count": 1,
     "metadata": {},
     "output_type": "execute_result"
    }
   ],
   "source": [
    "range(2,22,3)"
   ]
  },
  {
   "cell_type": "code",
   "execution_count": 8,
   "id": "34400560",
   "metadata": {},
   "outputs": [
    {
     "name": "stdout",
     "output_type": "stream",
     "text": [
      "3 your name\n",
      "4 your name\n",
      "5 your name\n"
     ]
    }
   ],
   "source": [
    "for a in range(3,6):\n",
    "    print(a ,\"your name\")\n",
    "\n"
   ]
  },
  {
   "cell_type": "code",
   "execution_count": 13,
   "id": "dae766fd",
   "metadata": {},
   "outputs": [
    {
     "name": "stdout",
     "output_type": "stream",
     "text": [
      "1 your name\n",
      "3 your name\n",
      "5 your name\n"
     ]
    }
   ],
   "source": [
    "for a in range(1,6,2):\n",
    "    print(a ,\"your name\")"
   ]
  },
  {
   "cell_type": "code",
   "execution_count": 15,
   "id": "41662cd7",
   "metadata": {},
   "outputs": [
    {
     "name": "stdout",
     "output_type": "stream",
     "text": [
      "a\n",
      "13\n",
      "dolphin\n",
      "16.3\n"
     ]
    }
   ],
   "source": [
    "list1=['a',13,\"dolphin\",16.30]\n",
    "for b in list1:\n",
    "    print(b)\n"
   ]
  },
  {
   "cell_type": "code",
   "execution_count": 18,
   "id": "2eb4b737",
   "metadata": {},
   "outputs": [
    {
     "name": "stdout",
     "output_type": "stream",
     "text": [
      "5 dinasaur\n",
      "5 dinasaur\n",
      "5 dinasaur\n",
      "5 dinasaur\n"
     ]
    }
   ],
   "source": [
    "list1=['a',13,\"dolphin\",16.30]\n",
    "for b in list1:\n",
    "    print(a ,\"dinasaur\")"
   ]
  },
  {
   "cell_type": "code",
   "execution_count": 35,
   "id": "1d9bfdf0",
   "metadata": {},
   "outputs": [
    {
     "name": "stdout",
     "output_type": "stream",
     "text": [
      "2 X 1  = 2\n",
      "2 X 2  = 4\n",
      "2 X 3  = 6\n",
      "2 X 4  = 8\n",
      "2 X 5  = 10\n",
      "2 X 6  = 12\n",
      "2 X 7  = 14\n",
      "2 X 8  = 16\n",
      "2 X 9  = 18\n",
      "2 X 10  = 20\n"
     ]
    }
   ],
   "source": [
    "for a in range(1,11):\n",
    "    print(\"2 X\",a, \" =\",a*2)\n"
   ]
  },
  {
   "cell_type": "markdown",
   "id": "06d4d911",
   "metadata": {},
   "source": []
  },
  {
   "cell_type": "code",
   "execution_count": 68,
   "id": "63091cd0",
   "metadata": {},
   "outputs": [
    {
     "name": "stdout",
     "output_type": "stream",
     "text": [
      "3 x  1 = 3\n",
      "3 x  2 = 6\n",
      "3 x  3 = 9\n",
      "3 x  4 = 12\n",
      "3 x  5 = 15\n",
      "3 x  6 = 18\n",
      "3 x  7 = 21\n",
      "3 x  8 = 24\n",
      "3 x  9 = 27\n",
      "3 x  10 = 30\n"
     ]
    }
   ],
   "source": [
    "for b in range(1,11):\n",
    "    print(\"3 x \",b,\"=\",3*b)"
   ]
  },
  {
   "cell_type": "code",
   "execution_count": 76,
   "id": "a33c28e4",
   "metadata": {},
   "outputs": [
    {
     "name": "stdout",
     "output_type": "stream",
     "text": [
      "Enter a table Number Which You want : 11\n",
      "11 X 1 = 11\n",
      "11 X 2 = 22\n",
      "11 X 3 = 33\n",
      "11 X 4 = 44\n",
      "11 X 5 = 55\n",
      "11 X 6 = 66\n",
      "11 X 7 = 77\n",
      "11 X 8 = 88\n",
      "11 X 9 = 99\n",
      "11 X 10 = 110\n"
     ]
    }
   ],
   "source": [
    "num1 = int(input(\"Enter a table Number Which You want : \"))\n",
    "for a1 in range(1,11):\n",
    "    print(num1, \"X\", a1, \"=\", num1*a1)\n"
   ]
  },
  {
   "cell_type": "code",
   "execution_count": 77,
   "id": "26b8ca11",
   "metadata": {},
   "outputs": [
    {
     "data": {
      "text/plain": [
       "10"
      ]
     },
     "execution_count": 77,
     "metadata": {},
     "output_type": "execute_result"
    }
   ],
   "source": [
    "a"
   ]
  },
  {
   "cell_type": "code",
   "execution_count": 85,
   "id": "59d6e992",
   "metadata": {},
   "outputs": [
    {
     "name": "stdout",
     "output_type": "stream",
     "text": [
      "Hello 11 Hello 45\n"
     ]
    }
   ],
   "source": [
    "print(\"Hello\",num1,\"Hello\",45)"
   ]
  },
  {
   "cell_type": "code",
   "execution_count": 86,
   "id": "f851e031",
   "metadata": {},
   "outputs": [
    {
     "name": "stdout",
     "output_type": "stream",
     "text": [
      "10 3.14 Hello, Python! True\n",
      "[1, 2, 3, 4, 5] (6, 7, 8, 9, 10) {'a': 1, 'b': 2, 'c': 3} {1, 2, 3, 4, 5}\n",
      "None (2+3j) b'Hello' bytearray(b'Python')\n",
      "range(0, 5) frozenset({1, 2, 3})\n"
     ]
    }
   ],
   "source": [
    "# Integer variable\n",
    "integer_var = 10\n",
    "\n",
    "# Float variable\n",
    "float_var = 3.14\n",
    "\n",
    "# String variable\n",
    "string_var = \"Hello, Python!\"\n",
    "\n",
    "# Boolean variable\n",
    "boolean_var = True\n",
    "\n",
    "# List variable\n",
    "list_var = [1, 2, 3, 4, 5]\n",
    "\n",
    "# Tuple variable\n",
    "tuple_var = (6, 7, 8, 9, 10)\n",
    "\n",
    "# Dictionary variable\n",
    "dictionary_var = {'a': 1, 'b': 2, 'c': 3}\n",
    "\n",
    "# Set variable\n",
    "set_var = {1, 2, 3, 4, 5}\n",
    "\n",
    "# NoneType variable\n",
    "none_var = None\n",
    "\n",
    "# Complex variable\n",
    "complex_var = 2 + 3j\n",
    "\n",
    "# Bytes variable\n",
    "bytes_var = b'Hello'\n",
    "\n",
    "# Bytearray variable\n",
    "bytearray_var = bytearray(b'Python')\n",
    "\n",
    "# Range variable\n",
    "range_var = range(5)\n",
    "\n",
    "# Frozen set variable\n",
    "frozenset_var = frozenset({1, 2, 3})\n",
    "\n",
    "# Print all variables\n",
    "print(integer_var, float_var, string_var, boolean_var)\n",
    "print(list_var, tuple_var, dictionary_var, set_var)\n",
    "print(none_var, complex_var, bytes_var, bytearray_var)\n",
    "print(range_var, frozenset_var)\n"
   ]
  },
  {
   "cell_type": "code",
   "execution_count": null,
   "id": "6f5625bb",
   "metadata": {},
   "outputs": [],
   "source": []
  }
 ],
 "metadata": {
  "kernelspec": {
   "display_name": "Python 3 (ipykernel)",
   "language": "python",
   "name": "python3"
  },
  "language_info": {
   "codemirror_mode": {
    "name": "ipython",
    "version": 3
   },
   "file_extension": ".py",
   "mimetype": "text/x-python",
   "name": "python",
   "nbconvert_exporter": "python",
   "pygments_lexer": "ipython3",
   "version": "3.11.5"
  }
 },
 "nbformat": 4,
 "nbformat_minor": 5
}
